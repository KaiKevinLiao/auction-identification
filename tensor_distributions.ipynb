{
  "nbformat": 4,
  "nbformat_minor": 0,
  "metadata": {
    "colab": {
      "provenance": [],
      "gpuType": "T4",
      "machine_shape": "hm",
      "authorship_tag": "ABX9TyP/ZGSDZwfKtFJr6LUHNoQq",
      "include_colab_link": true
    },
    "kernelspec": {
      "name": "python3",
      "display_name": "Python 3"
    },
    "language_info": {
      "name": "python"
    },
    "accelerator": "GPU"
  },
  "cells": [
    {
      "cell_type": "markdown",
      "metadata": {
        "id": "view-in-github",
        "colab_type": "text"
      },
      "source": [
        "<a href=\"https://colab.research.google.com/github/KaiKevinLiao/auction-identification/blob/main/tensor_distributions.ipynb\" target=\"_parent\"><img src=\"https://colab.research.google.com/assets/colab-badge.svg\" alt=\"Open In Colab\"/></a>"
      ]
    },
    {
      "cell_type": "code",
      "execution_count": null,
      "metadata": {
        "id": "GY9dua7smd2C"
      },
      "outputs": [],
      "source": [
        "import numpy as np\n",
        "from scipy.stats import rv_continuous\n",
        "import matplotlib.pyplot as plt\n",
        "\n",
        "# Define distribution of beta by subclassing rv_continuous\n",
        "class CustomDistribution(rv_continuous):\n",
        "    \"\"\"\n",
        "    Distribution of beta\n",
        "    \"\"\"\n",
        "    def _pdf(self, x, a, b):\n",
        "\n",
        "        return np.exp(-(x - a)**2 / (2 * b**2)) / (b * np.sqrt(2 * np.pi))\n",
        "\n",
        "    # def _cdf(self, x, a, b):\n",
        "\n",
        "    #     return None\n",
        "\n",
        "\n",
        "class TransformedDistribution(rv_continuous):\n",
        "    \"\"\"\n",
        "    Distribution of V(beta), transformed from the distribution of beta.\n",
        "    \"\"\"\n",
        "    def __init__(self, beta_dist, a, b, **kwargs):\n",
        "        super(TransformedDistribution, self).__init__(**kwargs)\n",
        "        self.beta_dist = beta_dist\n",
        "        self.a = a\n",
        "        self.b = b\n",
        "\n",
        "    def _pdf(self, x):\n",
        "        # Apply a linear transformation to the PDF of the custom distribution\n",
        "        return self.beta_dist.pdf((x - self.a) / self.b) / self.b"
      ]
    },
    {
      "cell_type": "code",
      "source": [
        "Beta = CustomDistribution(0, 1)\n",
        "V = TransformedDistribution(Beta, 0, 1)"
      ],
      "metadata": {
        "id": "D_R2AwGdmks0"
      },
      "execution_count": null,
      "outputs": []
    },
    {
      "cell_type": "code",
      "source": [
        "V.cdf(0.5)"
      ],
      "metadata": {
        "colab": {
          "base_uri": "https://localhost:8080/",
          "height": 328
        },
        "id": "EjBrKUCyq1p0",
        "outputId": "5db95d7e-f076-46db-d1e3-19f4d9f4794b"
      },
      "execution_count": null,
      "outputs": [
        {
          "output_type": "error",
          "ename": "TypeError",
          "evalue": "ignored",
          "traceback": [
            "\u001b[0;31m---------------------------------------------------------------------------\u001b[0m",
            "\u001b[0;31mTypeError\u001b[0m                                 Traceback (most recent call last)",
            "\u001b[0;32m<ipython-input-51-eb31bd562827>\u001b[0m in \u001b[0;36m<cell line: 1>\u001b[0;34m()\u001b[0m\n\u001b[0;32m----> 1\u001b[0;31m \u001b[0mV\u001b[0m\u001b[0;34m.\u001b[0m\u001b[0mcdf\u001b[0m\u001b[0;34m(\u001b[0m\u001b[0;36m0.5\u001b[0m\u001b[0;34m)\u001b[0m\u001b[0;34m\u001b[0m\u001b[0;34m\u001b[0m\u001b[0m\n\u001b[0m",
            "\u001b[0;32m/usr/local/lib/python3.10/dist-packages/scipy/stats/_distn_infrastructure.py\u001b[0m in \u001b[0;36mcdf\u001b[0;34m(self, x, *args, **kwds)\u001b[0m\n\u001b[1;32m   2074\u001b[0m         \u001b[0;32mif\u001b[0m \u001b[0mnp\u001b[0m\u001b[0;34m.\u001b[0m\u001b[0many\u001b[0m\u001b[0;34m(\u001b[0m\u001b[0mcond\u001b[0m\u001b[0;34m)\u001b[0m\u001b[0;34m:\u001b[0m  \u001b[0;31m# call only if at least 1 entry\u001b[0m\u001b[0;34m\u001b[0m\u001b[0;34m\u001b[0m\u001b[0m\n\u001b[1;32m   2075\u001b[0m             \u001b[0mgoodargs\u001b[0m \u001b[0;34m=\u001b[0m \u001b[0margsreduce\u001b[0m\u001b[0;34m(\u001b[0m\u001b[0mcond\u001b[0m\u001b[0;34m,\u001b[0m \u001b[0;34m*\u001b[0m\u001b[0;34m(\u001b[0m\u001b[0;34m(\u001b[0m\u001b[0mx\u001b[0m\u001b[0;34m,\u001b[0m\u001b[0;34m)\u001b[0m\u001b[0;34m+\u001b[0m\u001b[0margs\u001b[0m\u001b[0;34m)\u001b[0m\u001b[0;34m)\u001b[0m\u001b[0;34m\u001b[0m\u001b[0;34m\u001b[0m\u001b[0m\n\u001b[0;32m-> 2076\u001b[0;31m             \u001b[0mplace\u001b[0m\u001b[0;34m(\u001b[0m\u001b[0moutput\u001b[0m\u001b[0;34m,\u001b[0m \u001b[0mcond\u001b[0m\u001b[0;34m,\u001b[0m \u001b[0mself\u001b[0m\u001b[0;34m.\u001b[0m\u001b[0m_cdf\u001b[0m\u001b[0;34m(\u001b[0m\u001b[0;34m*\u001b[0m\u001b[0mgoodargs\u001b[0m\u001b[0;34m)\u001b[0m\u001b[0;34m)\u001b[0m\u001b[0;34m\u001b[0m\u001b[0;34m\u001b[0m\u001b[0m\n\u001b[0m\u001b[1;32m   2077\u001b[0m         \u001b[0;32mif\u001b[0m \u001b[0moutput\u001b[0m\u001b[0;34m.\u001b[0m\u001b[0mndim\u001b[0m \u001b[0;34m==\u001b[0m \u001b[0;36m0\u001b[0m\u001b[0;34m:\u001b[0m\u001b[0;34m\u001b[0m\u001b[0;34m\u001b[0m\u001b[0m\n\u001b[1;32m   2078\u001b[0m             \u001b[0;32mreturn\u001b[0m \u001b[0moutput\u001b[0m\u001b[0;34m[\u001b[0m\u001b[0;34m(\u001b[0m\u001b[0;34m)\u001b[0m\u001b[0;34m]\u001b[0m\u001b[0;34m\u001b[0m\u001b[0;34m\u001b[0m\u001b[0m\n",
            "\u001b[0;32m/usr/local/lib/python3.10/dist-packages/scipy/stats/_distn_infrastructure.py\u001b[0m in \u001b[0;36m_cdf\u001b[0;34m(self, x, *args)\u001b[0m\n\u001b[1;32m   1951\u001b[0m \u001b[0;34m\u001b[0m\u001b[0m\n\u001b[1;32m   1952\u001b[0m     \u001b[0;32mdef\u001b[0m \u001b[0m_cdf\u001b[0m\u001b[0;34m(\u001b[0m\u001b[0mself\u001b[0m\u001b[0;34m,\u001b[0m \u001b[0mx\u001b[0m\u001b[0;34m,\u001b[0m \u001b[0;34m*\u001b[0m\u001b[0margs\u001b[0m\u001b[0;34m)\u001b[0m\u001b[0;34m:\u001b[0m\u001b[0;34m\u001b[0m\u001b[0;34m\u001b[0m\u001b[0m\n\u001b[0;32m-> 1953\u001b[0;31m         \u001b[0;32mreturn\u001b[0m \u001b[0mself\u001b[0m\u001b[0;34m.\u001b[0m\u001b[0m_cdfvec\u001b[0m\u001b[0;34m(\u001b[0m\u001b[0mx\u001b[0m\u001b[0;34m,\u001b[0m \u001b[0;34m*\u001b[0m\u001b[0margs\u001b[0m\u001b[0;34m)\u001b[0m\u001b[0;34m\u001b[0m\u001b[0;34m\u001b[0m\u001b[0m\n\u001b[0m\u001b[1;32m   1954\u001b[0m \u001b[0;34m\u001b[0m\u001b[0m\n\u001b[1;32m   1955\u001b[0m     \u001b[0;31m# generic _argcheck, _logcdf, _sf, _logsf, _ppf, _isf, _rvs are defined\u001b[0m\u001b[0;34m\u001b[0m\u001b[0;34m\u001b[0m\u001b[0m\n",
            "\u001b[0;32m/usr/local/lib/python3.10/dist-packages/numpy/lib/function_base.py\u001b[0m in \u001b[0;36m__call__\u001b[0;34m(self, *args, **kwargs)\u001b[0m\n\u001b[1;32m   2326\u001b[0m             \u001b[0mvargs\u001b[0m\u001b[0;34m.\u001b[0m\u001b[0mextend\u001b[0m\u001b[0;34m(\u001b[0m\u001b[0;34m[\u001b[0m\u001b[0mkwargs\u001b[0m\u001b[0;34m[\u001b[0m\u001b[0m_n\u001b[0m\u001b[0;34m]\u001b[0m \u001b[0;32mfor\u001b[0m \u001b[0m_n\u001b[0m \u001b[0;32min\u001b[0m \u001b[0mnames\u001b[0m\u001b[0;34m]\u001b[0m\u001b[0;34m)\u001b[0m\u001b[0;34m\u001b[0m\u001b[0;34m\u001b[0m\u001b[0m\n\u001b[1;32m   2327\u001b[0m \u001b[0;34m\u001b[0m\u001b[0m\n\u001b[0;32m-> 2328\u001b[0;31m         \u001b[0;32mreturn\u001b[0m \u001b[0mself\u001b[0m\u001b[0;34m.\u001b[0m\u001b[0m_vectorize_call\u001b[0m\u001b[0;34m(\u001b[0m\u001b[0mfunc\u001b[0m\u001b[0;34m=\u001b[0m\u001b[0mfunc\u001b[0m\u001b[0;34m,\u001b[0m \u001b[0margs\u001b[0m\u001b[0;34m=\u001b[0m\u001b[0mvargs\u001b[0m\u001b[0;34m)\u001b[0m\u001b[0;34m\u001b[0m\u001b[0;34m\u001b[0m\u001b[0m\n\u001b[0m\u001b[1;32m   2329\u001b[0m \u001b[0;34m\u001b[0m\u001b[0m\n\u001b[1;32m   2330\u001b[0m     \u001b[0;32mdef\u001b[0m \u001b[0m_get_ufunc_and_otypes\u001b[0m\u001b[0;34m(\u001b[0m\u001b[0mself\u001b[0m\u001b[0;34m,\u001b[0m \u001b[0mfunc\u001b[0m\u001b[0;34m,\u001b[0m \u001b[0margs\u001b[0m\u001b[0;34m)\u001b[0m\u001b[0;34m:\u001b[0m\u001b[0;34m\u001b[0m\u001b[0;34m\u001b[0m\u001b[0m\n",
            "\u001b[0;32m/usr/local/lib/python3.10/dist-packages/numpy/lib/function_base.py\u001b[0m in \u001b[0;36m_vectorize_call\u001b[0;34m(self, func, args)\u001b[0m\n\u001b[1;32m   2409\u001b[0m             \u001b[0minputs\u001b[0m \u001b[0;34m=\u001b[0m \u001b[0;34m[\u001b[0m\u001b[0masanyarray\u001b[0m\u001b[0;34m(\u001b[0m\u001b[0ma\u001b[0m\u001b[0;34m,\u001b[0m \u001b[0mdtype\u001b[0m\u001b[0;34m=\u001b[0m\u001b[0mobject\u001b[0m\u001b[0;34m)\u001b[0m \u001b[0;32mfor\u001b[0m \u001b[0ma\u001b[0m \u001b[0;32min\u001b[0m \u001b[0margs\u001b[0m\u001b[0;34m]\u001b[0m\u001b[0;34m\u001b[0m\u001b[0;34m\u001b[0m\u001b[0m\n\u001b[1;32m   2410\u001b[0m \u001b[0;34m\u001b[0m\u001b[0m\n\u001b[0;32m-> 2411\u001b[0;31m             \u001b[0moutputs\u001b[0m \u001b[0;34m=\u001b[0m \u001b[0mufunc\u001b[0m\u001b[0;34m(\u001b[0m\u001b[0;34m*\u001b[0m\u001b[0minputs\u001b[0m\u001b[0;34m)\u001b[0m\u001b[0;34m\u001b[0m\u001b[0;34m\u001b[0m\u001b[0m\n\u001b[0m\u001b[1;32m   2412\u001b[0m \u001b[0;34m\u001b[0m\u001b[0m\n\u001b[1;32m   2413\u001b[0m             \u001b[0;32mif\u001b[0m \u001b[0mufunc\u001b[0m\u001b[0;34m.\u001b[0m\u001b[0mnout\u001b[0m \u001b[0;34m==\u001b[0m \u001b[0;36m1\u001b[0m\u001b[0;34m:\u001b[0m\u001b[0;34m\u001b[0m\u001b[0;34m\u001b[0m\u001b[0m\n",
            "\u001b[0;32m/usr/local/lib/python3.10/dist-packages/scipy/stats/_distn_infrastructure.py\u001b[0m in \u001b[0;36m_cdf_single\u001b[0;34m(self, x, *args)\u001b[0m\n\u001b[1;32m   1948\u001b[0m     \u001b[0;32mdef\u001b[0m \u001b[0m_cdf_single\u001b[0m\u001b[0;34m(\u001b[0m\u001b[0mself\u001b[0m\u001b[0;34m,\u001b[0m \u001b[0mx\u001b[0m\u001b[0;34m,\u001b[0m \u001b[0;34m*\u001b[0m\u001b[0margs\u001b[0m\u001b[0;34m)\u001b[0m\u001b[0;34m:\u001b[0m\u001b[0;34m\u001b[0m\u001b[0;34m\u001b[0m\u001b[0m\n\u001b[1;32m   1949\u001b[0m         \u001b[0m_a\u001b[0m\u001b[0;34m,\u001b[0m \u001b[0m_b\u001b[0m \u001b[0;34m=\u001b[0m \u001b[0mself\u001b[0m\u001b[0;34m.\u001b[0m\u001b[0m_get_support\u001b[0m\u001b[0;34m(\u001b[0m\u001b[0;34m*\u001b[0m\u001b[0margs\u001b[0m\u001b[0;34m)\u001b[0m\u001b[0;34m\u001b[0m\u001b[0;34m\u001b[0m\u001b[0m\n\u001b[0;32m-> 1950\u001b[0;31m         \u001b[0;32mreturn\u001b[0m \u001b[0mintegrate\u001b[0m\u001b[0;34m.\u001b[0m\u001b[0mquad\u001b[0m\u001b[0;34m(\u001b[0m\u001b[0mself\u001b[0m\u001b[0;34m.\u001b[0m\u001b[0m_pdf\u001b[0m\u001b[0;34m,\u001b[0m \u001b[0m_a\u001b[0m\u001b[0;34m,\u001b[0m \u001b[0mx\u001b[0m\u001b[0;34m,\u001b[0m \u001b[0margs\u001b[0m\u001b[0;34m=\u001b[0m\u001b[0margs\u001b[0m\u001b[0;34m)\u001b[0m\u001b[0;34m[\u001b[0m\u001b[0;36m0\u001b[0m\u001b[0;34m]\u001b[0m\u001b[0;34m\u001b[0m\u001b[0;34m\u001b[0m\u001b[0m\n\u001b[0m\u001b[1;32m   1951\u001b[0m \u001b[0;34m\u001b[0m\u001b[0m\n\u001b[1;32m   1952\u001b[0m     \u001b[0;32mdef\u001b[0m \u001b[0m_cdf\u001b[0m\u001b[0;34m(\u001b[0m\u001b[0mself\u001b[0m\u001b[0;34m,\u001b[0m \u001b[0mx\u001b[0m\u001b[0;34m,\u001b[0m \u001b[0;34m*\u001b[0m\u001b[0margs\u001b[0m\u001b[0;34m)\u001b[0m\u001b[0;34m:\u001b[0m\u001b[0;34m\u001b[0m\u001b[0;34m\u001b[0m\u001b[0m\n",
            "\u001b[0;32m/usr/local/lib/python3.10/dist-packages/scipy/integrate/_quadpack_py.py\u001b[0m in \u001b[0;36mquad\u001b[0;34m(func, a, b, args, full_output, epsabs, epsrel, limit, points, weight, wvar, wopts, maxp1, limlst, complex_func)\u001b[0m\n\u001b[1;32m    463\u001b[0m \u001b[0;34m\u001b[0m\u001b[0m\n\u001b[1;32m    464\u001b[0m     \u001b[0;32mif\u001b[0m \u001b[0mweight\u001b[0m \u001b[0;32mis\u001b[0m \u001b[0;32mNone\u001b[0m\u001b[0;34m:\u001b[0m\u001b[0;34m\u001b[0m\u001b[0;34m\u001b[0m\u001b[0m\n\u001b[0;32m--> 465\u001b[0;31m         retval = _quad(func, a, b, args, full_output, epsabs, epsrel, limit,\n\u001b[0m\u001b[1;32m    466\u001b[0m                        points)\n\u001b[1;32m    467\u001b[0m     \u001b[0;32melse\u001b[0m\u001b[0;34m:\u001b[0m\u001b[0;34m\u001b[0m\u001b[0;34m\u001b[0m\u001b[0m\n",
            "\u001b[0;32m/usr/local/lib/python3.10/dist-packages/scipy/integrate/_quadpack_py.py\u001b[0m in \u001b[0;36m_quad\u001b[0;34m(func, a, b, args, full_output, epsabs, epsrel, limit, points)\u001b[0m\n\u001b[1;32m    575\u001b[0m     \u001b[0;32mif\u001b[0m \u001b[0mpoints\u001b[0m \u001b[0;32mis\u001b[0m \u001b[0;32mNone\u001b[0m\u001b[0;34m:\u001b[0m\u001b[0;34m\u001b[0m\u001b[0;34m\u001b[0m\u001b[0m\n\u001b[1;32m    576\u001b[0m         \u001b[0;32mif\u001b[0m \u001b[0minfbounds\u001b[0m \u001b[0;34m==\u001b[0m \u001b[0;36m0\u001b[0m\u001b[0;34m:\u001b[0m\u001b[0;34m\u001b[0m\u001b[0;34m\u001b[0m\u001b[0m\n\u001b[0;32m--> 577\u001b[0;31m             \u001b[0;32mreturn\u001b[0m \u001b[0m_quadpack\u001b[0m\u001b[0;34m.\u001b[0m\u001b[0m_qagse\u001b[0m\u001b[0;34m(\u001b[0m\u001b[0mfunc\u001b[0m\u001b[0;34m,\u001b[0m\u001b[0ma\u001b[0m\u001b[0;34m,\u001b[0m\u001b[0mb\u001b[0m\u001b[0;34m,\u001b[0m\u001b[0margs\u001b[0m\u001b[0;34m,\u001b[0m\u001b[0mfull_output\u001b[0m\u001b[0;34m,\u001b[0m\u001b[0mepsabs\u001b[0m\u001b[0;34m,\u001b[0m\u001b[0mepsrel\u001b[0m\u001b[0;34m,\u001b[0m\u001b[0mlimit\u001b[0m\u001b[0;34m)\u001b[0m\u001b[0;34m\u001b[0m\u001b[0;34m\u001b[0m\u001b[0m\n\u001b[0m\u001b[1;32m    578\u001b[0m         \u001b[0;32melse\u001b[0m\u001b[0;34m:\u001b[0m\u001b[0;34m\u001b[0m\u001b[0;34m\u001b[0m\u001b[0m\n\u001b[1;32m    579\u001b[0m             \u001b[0;32mreturn\u001b[0m \u001b[0m_quadpack\u001b[0m\u001b[0;34m.\u001b[0m\u001b[0m_qagie\u001b[0m\u001b[0;34m(\u001b[0m\u001b[0mfunc\u001b[0m\u001b[0;34m,\u001b[0m\u001b[0mbound\u001b[0m\u001b[0;34m,\u001b[0m\u001b[0minfbounds\u001b[0m\u001b[0;34m,\u001b[0m\u001b[0margs\u001b[0m\u001b[0;34m,\u001b[0m\u001b[0mfull_output\u001b[0m\u001b[0;34m,\u001b[0m\u001b[0mepsabs\u001b[0m\u001b[0;34m,\u001b[0m\u001b[0mepsrel\u001b[0m\u001b[0;34m,\u001b[0m\u001b[0mlimit\u001b[0m\u001b[0;34m)\u001b[0m\u001b[0;34m\u001b[0m\u001b[0;34m\u001b[0m\u001b[0m\n",
            "\u001b[0;32m<ipython-input-49-abc0207c0da5>\u001b[0m in \u001b[0;36m_pdf\u001b[0;34m(self, x)\u001b[0m\n\u001b[1;32m     29\u001b[0m     \u001b[0;32mdef\u001b[0m \u001b[0m_pdf\u001b[0m\u001b[0;34m(\u001b[0m\u001b[0mself\u001b[0m\u001b[0;34m,\u001b[0m \u001b[0mx\u001b[0m\u001b[0;34m)\u001b[0m\u001b[0;34m:\u001b[0m\u001b[0;34m\u001b[0m\u001b[0;34m\u001b[0m\u001b[0m\n\u001b[1;32m     30\u001b[0m         \u001b[0;31m# Apply a linear transformation to the PDF of the custom distribution\u001b[0m\u001b[0;34m\u001b[0m\u001b[0;34m\u001b[0m\u001b[0m\n\u001b[0;32m---> 31\u001b[0;31m         \u001b[0;32mreturn\u001b[0m \u001b[0mself\u001b[0m\u001b[0;34m.\u001b[0m\u001b[0mbeta_dist\u001b[0m\u001b[0;34m.\u001b[0m\u001b[0mpdf\u001b[0m\u001b[0;34m(\u001b[0m\u001b[0;34m(\u001b[0m\u001b[0mx\u001b[0m \u001b[0;34m-\u001b[0m \u001b[0mself\u001b[0m\u001b[0;34m.\u001b[0m\u001b[0ma\u001b[0m\u001b[0;34m)\u001b[0m \u001b[0;34m/\u001b[0m \u001b[0mself\u001b[0m\u001b[0;34m.\u001b[0m\u001b[0mb\u001b[0m\u001b[0;34m)\u001b[0m \u001b[0;34m/\u001b[0m \u001b[0mself\u001b[0m\u001b[0;34m.\u001b[0m\u001b[0mb\u001b[0m\u001b[0;34m\u001b[0m\u001b[0;34m\u001b[0m\u001b[0m\n\u001b[0m",
            "\u001b[0;32m/usr/local/lib/python3.10/dist-packages/scipy/stats/_distn_infrastructure.py\u001b[0m in \u001b[0;36mpdf\u001b[0;34m(self, x, *args, **kwds)\u001b[0m\n\u001b[1;32m   1977\u001b[0m \u001b[0;34m\u001b[0m\u001b[0m\n\u001b[1;32m   1978\u001b[0m         \"\"\"\n\u001b[0;32m-> 1979\u001b[0;31m         \u001b[0margs\u001b[0m\u001b[0;34m,\u001b[0m \u001b[0mloc\u001b[0m\u001b[0;34m,\u001b[0m \u001b[0mscale\u001b[0m \u001b[0;34m=\u001b[0m \u001b[0mself\u001b[0m\u001b[0;34m.\u001b[0m\u001b[0m_parse_args\u001b[0m\u001b[0;34m(\u001b[0m\u001b[0;34m*\u001b[0m\u001b[0margs\u001b[0m\u001b[0;34m,\u001b[0m \u001b[0;34m**\u001b[0m\u001b[0mkwds\u001b[0m\u001b[0;34m)\u001b[0m\u001b[0;34m\u001b[0m\u001b[0;34m\u001b[0m\u001b[0m\n\u001b[0m\u001b[1;32m   1980\u001b[0m         \u001b[0mx\u001b[0m\u001b[0;34m,\u001b[0m \u001b[0mloc\u001b[0m\u001b[0;34m,\u001b[0m \u001b[0mscale\u001b[0m \u001b[0;34m=\u001b[0m \u001b[0mmap\u001b[0m\u001b[0;34m(\u001b[0m\u001b[0masarray\u001b[0m\u001b[0;34m,\u001b[0m \u001b[0;34m(\u001b[0m\u001b[0mx\u001b[0m\u001b[0;34m,\u001b[0m \u001b[0mloc\u001b[0m\u001b[0;34m,\u001b[0m \u001b[0mscale\u001b[0m\u001b[0;34m)\u001b[0m\u001b[0;34m)\u001b[0m\u001b[0;34m\u001b[0m\u001b[0;34m\u001b[0m\u001b[0m\n\u001b[1;32m   1981\u001b[0m         \u001b[0margs\u001b[0m \u001b[0;34m=\u001b[0m \u001b[0mtuple\u001b[0m\u001b[0;34m(\u001b[0m\u001b[0mmap\u001b[0m\u001b[0;34m(\u001b[0m\u001b[0masarray\u001b[0m\u001b[0;34m,\u001b[0m \u001b[0margs\u001b[0m\u001b[0;34m)\u001b[0m\u001b[0;34m)\u001b[0m\u001b[0;34m\u001b[0m\u001b[0;34m\u001b[0m\u001b[0m\n",
            "\u001b[0;31mTypeError\u001b[0m: _parse_args() missing 2 required positional arguments: 'a' and 'b'"
          ]
        }
      ]
    },
    {
      "cell_type": "code",
      "source": [
        "import numpy as np\n",
        "from scipy.stats import rv_continuous\n",
        "import matplotlib.pyplot as plt\n",
        "\n",
        "# Define a custom distribution by subclassing rv_continuous\n",
        "class CustomDistribution(rv_continuous):\n",
        "    def _pdf(self, x):\n",
        "        # Define the probability density function (PDF) of your distribution\n",
        "        return np.exp(-x**2)\n",
        "\n",
        "# Define a new distribution as a linear transformation of the custom distribution\n",
        "class TransformedDistribution(rv_continuous):\n",
        "    def __init__(self, custom_dist, a, b, **kwargs):\n",
        "        self.custom_dist = custom_dist\n",
        "        self.a = a\n",
        "        self.b = b\n",
        "\n",
        "    def _pdf(self, x):\n",
        "        # Apply a linear transformation to the PDF of the custom distribution\n",
        "        return self.custom_dist.pdf((x - self.a) / self.b) / self.b\n",
        "\n",
        "    def _parse_args(self, *args, **kwds):\n",
        "        # Explicitly call the _parse_args method from the rv_continuous superclass\n",
        "        return super(TransformedDistribution, self)._parse_args(*args, **kwds)\n",
        "\n",
        "# Create an instance of your custom distribution\n",
        "custom_dist = CustomDistribution()\n",
        "\n",
        "# Define parameters for the linear transformation\n",
        "a, b = 2, 0.5\n",
        "\n",
        "# Create an instance of the transformed distribution\n",
        "transformed_dist = TransformedDistribution(custom_dist, a=a, b=b)\n",
        "\n",
        "# Generate random samples from the custom distribution\n",
        "custom_samples = custom_dist.rvs(size=1000)\n",
        "\n",
        "# Apply the linear transformation to the samples\n",
        "transformed_samples = transformed_dist.pdf(1000)\n",
        "\n",
        "# Plot the original and transformed distributions\n",
        "plt.hist(custom_samples, bins=30, alpha=0.5, label='Custom Distribution')\n",
        "plt.hist(transformed_samples, bins=30, alpha=0.5, label='Transformed Distribution')\n",
        "plt.legend()\n",
        "plt.show()\n"
      ],
      "metadata": {
        "colab": {
          "base_uri": "https://localhost:8080/",
          "height": 399
        },
        "id": "pLkPfswFsXjH",
        "outputId": "05e08f1a-8109-4d57-ba6e-7f0d115033e4"
      },
      "execution_count": 1,
      "outputs": [
        {
          "output_type": "error",
          "ename": "AttributeError",
          "evalue": "ignored",
          "traceback": [
            "\u001b[0;31m---------------------------------------------------------------------------\u001b[0m",
            "\u001b[0;31mAttributeError\u001b[0m                            Traceback (most recent call last)",
            "\u001b[0;32m<ipython-input-1-6c2f9d023ced>\u001b[0m in \u001b[0;36m<cell line: 39>\u001b[0;34m()\u001b[0m\n\u001b[1;32m     37\u001b[0m \u001b[0;34m\u001b[0m\u001b[0m\n\u001b[1;32m     38\u001b[0m \u001b[0;31m# Apply the linear transformation to the samples\u001b[0m\u001b[0;34m\u001b[0m\u001b[0;34m\u001b[0m\u001b[0m\n\u001b[0;32m---> 39\u001b[0;31m \u001b[0mtransformed_samples\u001b[0m \u001b[0;34m=\u001b[0m \u001b[0mtransformed_dist\u001b[0m\u001b[0;34m.\u001b[0m\u001b[0mpdf\u001b[0m\u001b[0;34m(\u001b[0m\u001b[0;36m1000\u001b[0m\u001b[0;34m)\u001b[0m\u001b[0;34m\u001b[0m\u001b[0;34m\u001b[0m\u001b[0m\n\u001b[0m\u001b[1;32m     40\u001b[0m \u001b[0;34m\u001b[0m\u001b[0m\n\u001b[1;32m     41\u001b[0m \u001b[0;31m# Plot the original and transformed distributions\u001b[0m\u001b[0;34m\u001b[0m\u001b[0;34m\u001b[0m\u001b[0m\n",
            "\u001b[0;32m/usr/local/lib/python3.10/dist-packages/scipy/stats/_distn_infrastructure.py\u001b[0m in \u001b[0;36mpdf\u001b[0;34m(self, x, *args, **kwds)\u001b[0m\n\u001b[1;32m   1977\u001b[0m \u001b[0;34m\u001b[0m\u001b[0m\n\u001b[1;32m   1978\u001b[0m         \"\"\"\n\u001b[0;32m-> 1979\u001b[0;31m         \u001b[0margs\u001b[0m\u001b[0;34m,\u001b[0m \u001b[0mloc\u001b[0m\u001b[0;34m,\u001b[0m \u001b[0mscale\u001b[0m \u001b[0;34m=\u001b[0m \u001b[0mself\u001b[0m\u001b[0;34m.\u001b[0m\u001b[0m_parse_args\u001b[0m\u001b[0;34m(\u001b[0m\u001b[0;34m*\u001b[0m\u001b[0margs\u001b[0m\u001b[0;34m,\u001b[0m \u001b[0;34m**\u001b[0m\u001b[0mkwds\u001b[0m\u001b[0;34m)\u001b[0m\u001b[0;34m\u001b[0m\u001b[0;34m\u001b[0m\u001b[0m\n\u001b[0m\u001b[1;32m   1980\u001b[0m         \u001b[0mx\u001b[0m\u001b[0;34m,\u001b[0m \u001b[0mloc\u001b[0m\u001b[0;34m,\u001b[0m \u001b[0mscale\u001b[0m \u001b[0;34m=\u001b[0m \u001b[0mmap\u001b[0m\u001b[0;34m(\u001b[0m\u001b[0masarray\u001b[0m\u001b[0;34m,\u001b[0m \u001b[0;34m(\u001b[0m\u001b[0mx\u001b[0m\u001b[0;34m,\u001b[0m \u001b[0mloc\u001b[0m\u001b[0;34m,\u001b[0m \u001b[0mscale\u001b[0m\u001b[0;34m)\u001b[0m\u001b[0;34m)\u001b[0m\u001b[0;34m\u001b[0m\u001b[0;34m\u001b[0m\u001b[0m\n\u001b[1;32m   1981\u001b[0m         \u001b[0margs\u001b[0m \u001b[0;34m=\u001b[0m \u001b[0mtuple\u001b[0m\u001b[0;34m(\u001b[0m\u001b[0mmap\u001b[0m\u001b[0;34m(\u001b[0m\u001b[0masarray\u001b[0m\u001b[0;34m,\u001b[0m \u001b[0margs\u001b[0m\u001b[0;34m)\u001b[0m\u001b[0;34m)\u001b[0m\u001b[0;34m\u001b[0m\u001b[0;34m\u001b[0m\u001b[0m\n",
            "\u001b[0;32m<ipython-input-1-6c2f9d023ced>\u001b[0m in \u001b[0;36m_parse_args\u001b[0;34m(self, *args, **kwds)\u001b[0m\n\u001b[1;32m     22\u001b[0m     \u001b[0;32mdef\u001b[0m \u001b[0m_parse_args\u001b[0m\u001b[0;34m(\u001b[0m\u001b[0mself\u001b[0m\u001b[0;34m,\u001b[0m \u001b[0;34m*\u001b[0m\u001b[0margs\u001b[0m\u001b[0;34m,\u001b[0m \u001b[0;34m**\u001b[0m\u001b[0mkwds\u001b[0m\u001b[0;34m)\u001b[0m\u001b[0;34m:\u001b[0m\u001b[0;34m\u001b[0m\u001b[0;34m\u001b[0m\u001b[0m\n\u001b[1;32m     23\u001b[0m         \u001b[0;31m# Explicitly call the _parse_args method from the rv_continuous superclass\u001b[0m\u001b[0;34m\u001b[0m\u001b[0;34m\u001b[0m\u001b[0m\n\u001b[0;32m---> 24\u001b[0;31m         \u001b[0;32mreturn\u001b[0m \u001b[0msuper\u001b[0m\u001b[0;34m(\u001b[0m\u001b[0mTransformedDistribution\u001b[0m\u001b[0;34m,\u001b[0m \u001b[0mself\u001b[0m\u001b[0;34m)\u001b[0m\u001b[0;34m.\u001b[0m\u001b[0m_parse_args\u001b[0m\u001b[0;34m(\u001b[0m\u001b[0;34m*\u001b[0m\u001b[0margs\u001b[0m\u001b[0;34m,\u001b[0m \u001b[0;34m**\u001b[0m\u001b[0mkwds\u001b[0m\u001b[0;34m)\u001b[0m\u001b[0;34m\u001b[0m\u001b[0;34m\u001b[0m\u001b[0m\n\u001b[0m\u001b[1;32m     25\u001b[0m \u001b[0;34m\u001b[0m\u001b[0m\n\u001b[1;32m     26\u001b[0m \u001b[0;31m# Create an instance of your custom distribution\u001b[0m\u001b[0;34m\u001b[0m\u001b[0;34m\u001b[0m\u001b[0m\n",
            "\u001b[0;31mAttributeError\u001b[0m: 'super' object has no attribute '_parse_args'"
          ]
        }
      ]
    },
    {
      "cell_type": "code",
      "source": [
        "transformed_dist.pdf(1000)"
      ],
      "metadata": {
        "colab": {
          "base_uri": "https://localhost:8080/",
          "height": 304
        },
        "id": "gD7iz0-pui0I",
        "outputId": "baf15165-f7e5-4157-d432-299fec522281"
      },
      "execution_count": null,
      "outputs": [
        {
          "output_type": "error",
          "ename": "AttributeError",
          "evalue": "ignored",
          "traceback": [
            "\u001b[0;31m---------------------------------------------------------------------------\u001b[0m",
            "\u001b[0;31mAttributeError\u001b[0m                            Traceback (most recent call last)",
            "\u001b[0;32m<ipython-input-55-548ae6d92a73>\u001b[0m in \u001b[0;36m<cell line: 1>\u001b[0;34m()\u001b[0m\n\u001b[0;32m----> 1\u001b[0;31m \u001b[0mtransformed_dist\u001b[0m\u001b[0;34m.\u001b[0m\u001b[0mpdf\u001b[0m\u001b[0;34m(\u001b[0m\u001b[0;36m1000\u001b[0m\u001b[0;34m)\u001b[0m\u001b[0;34m\u001b[0m\u001b[0;34m\u001b[0m\u001b[0m\n\u001b[0m",
            "\u001b[0;32m/usr/local/lib/python3.10/dist-packages/scipy/stats/_distn_infrastructure.py\u001b[0m in \u001b[0;36mpdf\u001b[0;34m(self, x, *args, **kwds)\u001b[0m\n\u001b[1;32m   1977\u001b[0m \u001b[0;34m\u001b[0m\u001b[0m\n\u001b[1;32m   1978\u001b[0m         \"\"\"\n\u001b[0;32m-> 1979\u001b[0;31m         \u001b[0margs\u001b[0m\u001b[0;34m,\u001b[0m \u001b[0mloc\u001b[0m\u001b[0;34m,\u001b[0m \u001b[0mscale\u001b[0m \u001b[0;34m=\u001b[0m \u001b[0mself\u001b[0m\u001b[0;34m.\u001b[0m\u001b[0m_parse_args\u001b[0m\u001b[0;34m(\u001b[0m\u001b[0;34m*\u001b[0m\u001b[0margs\u001b[0m\u001b[0;34m,\u001b[0m \u001b[0;34m**\u001b[0m\u001b[0mkwds\u001b[0m\u001b[0;34m)\u001b[0m\u001b[0;34m\u001b[0m\u001b[0;34m\u001b[0m\u001b[0m\n\u001b[0m\u001b[1;32m   1980\u001b[0m         \u001b[0mx\u001b[0m\u001b[0;34m,\u001b[0m \u001b[0mloc\u001b[0m\u001b[0;34m,\u001b[0m \u001b[0mscale\u001b[0m \u001b[0;34m=\u001b[0m \u001b[0mmap\u001b[0m\u001b[0;34m(\u001b[0m\u001b[0masarray\u001b[0m\u001b[0;34m,\u001b[0m \u001b[0;34m(\u001b[0m\u001b[0mx\u001b[0m\u001b[0;34m,\u001b[0m \u001b[0mloc\u001b[0m\u001b[0;34m,\u001b[0m \u001b[0mscale\u001b[0m\u001b[0;34m)\u001b[0m\u001b[0;34m)\u001b[0m\u001b[0;34m\u001b[0m\u001b[0;34m\u001b[0m\u001b[0m\n\u001b[1;32m   1981\u001b[0m         \u001b[0margs\u001b[0m \u001b[0;34m=\u001b[0m \u001b[0mtuple\u001b[0m\u001b[0;34m(\u001b[0m\u001b[0mmap\u001b[0m\u001b[0;34m(\u001b[0m\u001b[0masarray\u001b[0m\u001b[0;34m,\u001b[0m \u001b[0margs\u001b[0m\u001b[0;34m)\u001b[0m\u001b[0;34m)\u001b[0m\u001b[0;34m\u001b[0m\u001b[0;34m\u001b[0m\u001b[0m\n",
            "\u001b[0;31mAttributeError\u001b[0m: 'TransformedDistribution' object has no attribute '_parse_args'"
          ]
        }
      ]
    },
    {
      "cell_type": "code",
      "source": [
        "import tensorflow as tf\n",
        "from math import pi\n",
        "\n",
        "def integral(y, x):\n",
        "    Nsamps = int(x.shape[0])\n",
        "    Ninterv = Nsamps-1\n",
        "    n = 1\n",
        "    k = 0\n",
        "    while n < Ninterv:\n",
        "        n <<= 1\n",
        "        k += 1\n",
        "    if n != Ninterv:\n",
        "        raise ValueError(\"Number of samples must be one plus a non-negative power of 2.\")\n",
        "    R = {}\n",
        "    h = x[-1] - x[0]\n",
        "    R[(0, 0)] = (y[0] + y[-1])/2*h\n",
        "    start = stop = step = Ninterv\n",
        "    for i in range(1, k+1):\n",
        "        start >>= 1\n",
        "        R[(i, 0)] = 0.5*(R[(i-1, 0)] + h*tf.reduce_sum(y[start:stop:step]))\n",
        "        step >>= 1\n",
        "        for j in range(1, i+1):\n",
        "            prev = R[(i, j-1)]\n",
        "            R[(i, j)] = prev + (prev-R[(i-1, j-1)]) / ((1 << (2*j))-1)\n",
        "        h /= 2.0\n",
        "    return R[(k, k)]\n",
        "\n",
        "a = tf.constant(0, dtype=tf.float64)\n",
        "b = tf.constant(1, dtype=tf.float64)\n",
        "x = tf.linspace(a, b, 2**5+1)\n",
        "result = integral(tf.sin(x), x)\n",
        "\n",
        "tf.print(result)"
      ],
      "metadata": {
        "colab": {
          "base_uri": "https://localhost:8080/"
        },
        "id": "zTnRqoBzvzn7",
        "outputId": "71c6a475-963b-4aa4-d30f-8dd578eb6e75"
      },
      "execution_count": null,
      "outputs": [
        {
          "output_type": "stream",
          "name": "stdout",
          "text": [
            "0.45969769413186029\n"
          ]
        }
      ]
    },
    {
      "cell_type": "code",
      "source": [
        "a = tf.constant(0, dtype=tf.float64)\n",
        "b = tf.constant(1, dtype=tf.float64)\n",
        "x = tf.linspace(a, b, 2**5+1)\n",
        "result = integral(tf.sin(x), x**2)\n",
        "\n",
        "tf.print(result)"
      ],
      "metadata": {
        "colab": {
          "base_uri": "https://localhost:8080/"
        },
        "id": "OFlF4mblGfKF",
        "outputId": "790d14db-1d64-483b-aca3-851975d091e8"
      },
      "execution_count": null,
      "outputs": [
        {
          "output_type": "stream",
          "name": "stdout",
          "text": [
            "0.45969769413186029\n"
          ]
        }
      ]
    },
    {
      "cell_type": "code",
      "source": [
        "import numpy as np\n",
        "from scipy.interpolate import griddata\n",
        "\n",
        "# Create some sample data\n",
        "np.random.seed(42)\n",
        "points = np.random.rand(100, 2)  # 2D points\n",
        "values = np.random.rand(100)     # Corresponding values\n",
        "\n",
        "# Define a grid for interpolation\n",
        "grid_x, grid_y = np.mgrid[0:1:100j, 0:1:100j]\n",
        "\n",
        "# Interpolate using griddata with linear method\n",
        "interpolated_values_linear = griddata(points, values, (grid_x, grid_y), method='linear')\n",
        "\n",
        "# Print the interpolated values\n",
        "print(interpolated_values_linear)"
      ],
      "metadata": {
        "colab": {
          "base_uri": "https://localhost:8080/"
        },
        "id": "-eLHA4xoHH7A",
        "outputId": "883d61b6-5631-45d8-cd03-dbfd6c929eec"
      },
      "execution_count": null,
      "outputs": [
        {
          "output_type": "stream",
          "name": "stdout",
          "text": [
            "[[nan nan nan ... nan nan nan]\n",
            " [nan nan nan ... nan nan nan]\n",
            " [nan nan nan ... nan nan nan]\n",
            " ...\n",
            " [nan nan nan ... nan nan nan]\n",
            " [nan nan nan ... nan nan nan]\n",
            " [nan nan nan ... nan nan nan]]\n"
          ]
        }
      ]
    },
    {
      "cell_type": "code",
      "source": [
        "scipy.interpolate.LinearNDInterpolator()"
      ],
      "metadata": {
        "id": "rvFnuGwknpX9"
      },
      "execution_count": null,
      "outputs": []
    },
    {
      "cell_type": "code",
      "source": [
        "import itertools\n",
        "import numpy as np\n",
        "import scipy\n",
        "import tensorflow as tf\n",
        "import tensorflow_probability as tfp\n",
        "from typing import Final  # for constant definition\n",
        "\n",
        "tfd = tfp.distributions\n",
        "\n",
        "\n",
        "def cartesian_product(array, ndim):\n",
        "    \"\"\"\n",
        "    Compute the cartesian_product of #dim of identical arrays.\n",
        "\n",
        "    Inputs\n",
        "    -------\n",
        "    array : array_like\n",
        "        The base for cartesian product.\n",
        "    ndim : int\n",
        "        Number of dimension.\n",
        "\n",
        "    Returns\n",
        "    -------\n",
        "    cartesian_product : 2D tensor\n",
        "        each row is a element of the cartesian product.\n",
        "    \"\"\"\n",
        "    return tf.constant(np.array(list(itertools.product( *([list(array)]*ndim) ))), dtype=tf.float64)\n",
        "\n",
        "# maximum value function iteration time\n",
        "MAX_VALUE_ITER : Final = 100\n",
        "# value function tolerance (the distance between two iteration)\n",
        "VALUE_TOLER : Final = 1e-3\n",
        "\n",
        "# the support of Beta\n",
        "BETA_MAX : Final  = 1\n",
        "BETA_MIN : Final  = 0\n",
        "\n",
        "# the support of X\n",
        "X_MAX : Final  = 1\n",
        "X_MIN : Final  = 0\n",
        "\n",
        "# dimension of parameters (beta)\n",
        "numK : Final  = 2\n",
        "# number of grids to be evaluated across each dimension of the value function\n",
        "numGrid : Final  = 20\n",
        "# number of simulated point across each dimension of X\n",
        "numJ : Final  = 1001\n",
        "# number of simulated point across each dimension of beta\n",
        "numI : Final  = 1000\n",
        "# maximum number of rival bidders\n",
        "numR : Final  = 5\n",
        "\n",
        "def beta_distribution(mu, cov):\n",
        "    \"\"\"\n",
        "    Define the distribution of beta, which has support in (0,1)^numK.\n",
        "    The distribution is a multivariate Normal distribution transformed by normal CDF.\n",
        "\n",
        "    Inputs\n",
        "    -------\n",
        "    mu : array\n",
        "        Means of the multivariate Normal distribution\n",
        "    cov : 2-d array\n",
        "        Covariance matrix of the multivariate Normal distribution\n",
        "\n",
        "    Returns\n",
        "    -------\n",
        "    beta_distribution : tensorflow_probability.distributions.Distribution\n",
        "        Distribution of beta\n",
        "    \"\"\"\n",
        "    # Create a 2-dimensional normal distribution\n",
        "    scale = tf.linalg.cholesky(cov)\n",
        "    normal_distribution = tfd.MultivariateNormalTriL(\n",
        "        loc=mu,\n",
        "        scale_tril=scale)\n",
        "\n",
        "    # Create a normal CDF bijector\n",
        "    normal_cdf_bijector = tfp.bijectors.NormalCDF()\n",
        "\n",
        "    # Transform the distribution using the bijector\n",
        "    transformed_distribution = tfp.distributions.TransformedDistribution(\n",
        "        distribution=normal_distribution,\n",
        "        bijector=normal_cdf_bijector\n",
        "    )\n",
        "    return transformed_distribution\n",
        "\n",
        "mu = tf.constant([0.0, 0.0], dtype='float64')\n",
        "cov = tf.constant([[0.6, -0.5], [-0.5, 0.6]], dtype='float64')\n",
        "beta_dist : Final = beta_distribution(mu, cov)\n",
        "\n",
        "low = tf.constant([0.0, 0.0], dtype='float64')\n",
        "high = tf.constant([1.0, 1.0], dtype='float64')\n",
        "x_dist : Final = tfp.distributions.Uniform(low, high)\n",
        "\n",
        "# discount factor\n",
        "delta : Final = tf.constant(0.8, dtype='float64')\n",
        "# entry cost\n",
        "kappa : Final = 0.05\n",
        "# number of rival possibility, prob_rival[i] is the possibility having i+1 rival(s).\n",
        "prob_rival : Final = tf.constant([0.2, 0.5, 0.1, 0.1, 0.1], dtype=tf.float64)\n",
        "\n",
        "# value function grids\n",
        "beta_grids_1d : Final = tf.linspace(BETA_MIN, BETA_MAX, numGrid)\n",
        "beta_grids : Final = cartesian_product(beta_grids_1d, numK)\n"
      ],
      "metadata": {
        "id": "B0eAUpxBnrQ6"
      },
      "execution_count": 1,
      "outputs": []
    },
    {
      "cell_type": "code",
      "source": [
        "def generate_products(x_dist, J):\n",
        "    \"\"\"\n",
        "    Randomly generate J products from distribution x_dist\n",
        "\n",
        "    Inputs\n",
        "    -------\n",
        "    x_dist : tfp.distributions.Distribution\n",
        "        product characteristics distribution\n",
        "    J : int\n",
        "        Number of products to generate\n",
        "\n",
        "    Returns\n",
        "    -------\n",
        "    products : Tensor (J * numK)\n",
        "        J random characteristics of numK dimension.\n",
        "    \"\"\"\n",
        "    x_jk = x_dist.sample(J)\n",
        "    return x_jk\n",
        "\n",
        "def generate_buyers(beta_dist, I):\n",
        "    beta_i = beta_dist.sample(I)\n",
        "    return beta_i\n",
        "\n",
        "def generate_rivals_coef(beta_dist, R, I):\n",
        "    \"\"\"\n",
        "    Randomly generate (R*I) rivals from distribution beta_dist\n",
        "\n",
        "    Returns\n",
        "    -------\n",
        "    rivals : Tensor (R * I * numK)\n",
        "        J random characteristics of numK dimension.\n",
        "    \"\"\"\n",
        "    return beta_dist.sample((R, I))\n",
        "\n",
        "def compute_buyers_psuedo(beta_i, x_j, V, delta):\n",
        "    \"\"\"\n",
        "    Compute buyer's psuedo types\n",
        "\n",
        "    Returns\n",
        "    -------\n",
        "    v_ji : Tensor (J * I)\n",
        "        (j,i)-element is the buyer i's psuedo valuation of product j\n",
        "    \"\"\"\n",
        "\n",
        "    return x_j @ tf.transpose(beta_i) - delta * V(beta_i)\n",
        "\n",
        "def compute_rival_psuedo(beta_ri, x_j, V, delta):\n",
        "    \"\"\"\n",
        "    Compute rival's psuedo types\n",
        "\n",
        "    Returns\n",
        "    -------\n",
        "    v_rival_rji : Tensor (R * J * I)\n",
        "        (r,j,i)-element is the rival r's psuedo valuation in auction i of product j.\n",
        "    v_rival_max_rji : Tensor (R * J * I)\n",
        "        (r,j,i)-element is the highest psuedo type of among rival <= r in auction i of product j.\n",
        "    \"\"\"\n",
        "\n",
        "    J = x_j.shape[0]\n",
        "    R = beta_ri.shape[0]\n",
        "\n",
        "    v_beta = tf.repeat(tf.expand_dims(V(beta_ri), axis=1), repeats=J, axis=1)\n",
        "    x = tf.repeat(tf.expand_dims(x_j, axis=0), repeats=numR, axis=0)\n",
        "    v_rival_rji = tf.einsum('rik,rjk->rji', beta_ri, x) - delta * v_beta\n",
        "\n",
        "    v_rival_max_lst = []\n",
        "    for i in range(R):\n",
        "        v_rival_max_lst.append(tf.reduce_max(v_rival_rji[:i+1,:,:], axis=0))\n",
        "    v_rival_max_rji = tf.stack(v_rival_max_lst)\n",
        "\n",
        "    return v_rival_rji, v_rival_max_rji\n",
        "\n",
        "def value_1d(beta, x_j, v_rival_max_rji, V, prob_rival_num, kappa, delta):\n",
        "    \"\"\"\n",
        "    Compute the continuation value.\n",
        "\n",
        "    Inputs\n",
        "    -------\n",
        "    beta : Tensor (numK,)\n",
        "        A buyer type to be evaluated\n",
        "    x_j : Tensor (J, K)\n",
        "        The product could be auction next period. (random, and follow some distribution)\n",
        "    v_rival_max_rji :  Tensor (R, J, I)\n",
        "        The possible highest rival in auction i for product j if the total number of rival is r\n",
        "    prob_rival_num : Tensor (R)\n",
        "        The probability of the number of rival == r+1\n",
        "\n",
        "    Returns\n",
        "    -------\n",
        "    value : Tensor\n",
        "        Value at beta.\n",
        "    profit_j :  Tensor (J)\n",
        "        The expected profit if the buyer enters an auction of product J\n",
        "    \"\"\"\n",
        "    K = beta.shape[0]\n",
        "    R, J, I  = v_rival_max_rji.shape\n",
        "    assert x_j.shape == (J,K)\n",
        "    assert prob_rival_num.shape[0] == R\n",
        "\n",
        "    beta_i = tf.repeat(tf.expand_dims(beta, axis=0), repeats=I, axis=0)\n",
        "    v_ji = compute_buyers_psuedo(beta_i, x_j, V, delta)\n",
        "    v_rji = tf.repeat(tf.expand_dims(v_ji, axis=0), repeats=R, axis=0)\n",
        "\n",
        "\n",
        "    profit_rji = tf.nn.relu(v_rji - v_rival_max_rji)\n",
        "    # profit weigted by the probability of rival number occurance.\n",
        "    profit_rji_weighted = profit_rji * tf.expand_dims(tf.expand_dims(prob_rival_num, axis=1), axis=2)\n",
        "    profit_ji = tf.reduce_sum(profit_rji_weighted, axis=0)\n",
        "    # expected profit for each product if enter\n",
        "    profit_j = tf.reduce_sum(profit_ji / I, axis=1)\n",
        "\n",
        "    # expected profit before knowing the product type, rival type, and number of rivals.\n",
        "    value = tf.reduce_sum(tf.nn.relu(profit_j - kappa)) / J\n",
        "\n",
        "    return value, profit_j\n",
        "\n",
        "def value(beta_i, x_j, v_rival_max_rji, V, prob_rival_num, kappa, delta):\n",
        "    \"\"\"\n",
        "    A multidimensional version of function value_1d.\n",
        "\n",
        "    Input\n",
        "    -------\n",
        "    beta : Tensor (I, numK)\n",
        "\n",
        "    Returns\n",
        "    -------\n",
        "    values : Tensor (I)\n",
        "    \"\"\"\n",
        "\n",
        "    I = beta_i.shape[0]\n",
        "\n",
        "    values_lst = []\n",
        "    for i in range(I):\n",
        "        beta = beta_i[i,:]\n",
        "        value_at_beta, _ = value_1d(beta, x_j, v_rival_max_rji, V, prob_rival_num, kappa, delta)\n",
        "        values_lst.append(value_at_beta)\n",
        "\n",
        "    # get values at grids to update V, NumPy type\n",
        "    values = tf.reshape(tf.stack(values_lst), [int(I ** (1/numK))]*numK).numpy()\n",
        "\n",
        "    return values\n",
        "\n",
        "\n",
        "def update_V(V_old, x_j, beta_ri, beta_grids, prob_rival_num, kappa, delta):\n",
        "    \"\"\"\n",
        "    Update value funtion\n",
        "\n",
        "    Returns\n",
        "    -------\n",
        "    V_new : callable\n",
        "        updated value function\n",
        "\n",
        "    values : Tensor (I)\n",
        "        values evaluated at beta_grids\n",
        "    \"\"\"\n",
        "\n",
        "    _, v_rival_max_rji = compute_rival_psuedo(beta_ri, x_j, V_old, delta)\n",
        "\n",
        "    values = value(beta_grids, x_j, v_rival_max_rji, V_old, prob_rival_num, kappa, delta)\n",
        "\n",
        "    V_scipy = scipy.interpolate.RegularGridInterpolator((beta_grids_1d, beta_grids_1d), values)\n",
        "    V_new = lambda x: tf.constant(V_scipy(x))\n",
        "\n",
        "    return V_new, values\n",
        "\n",
        "\n",
        "def init_V(beta_grids_1d):\n",
        "    num_grid = beta_grids_1d.shape[0]\n",
        "    assert num_grid == numGrid\n",
        "\n",
        "    values = np.zeros([numGrid]*numK)\n",
        "    # V_scipy is a callable, mapping beta to value (as numpy array)\n",
        "    V_scipy = scipy.interpolate.RegularGridInterpolator((beta_grids_1d, beta_grids_1d), values)\n",
        "    # V_scipy is a callable, mapping beta to value (as tensor)\n",
        "    V = lambda x: tf.constant(V_scipy(x))\n",
        "    return V, values\n",
        "\n",
        "\n",
        "def VFI(x_dist, beta_dist, grids=beta_grids, prob_rival_num=prob_rival, R=numR, I=numI, J=numJ, max_iter_ = MAX_VALUE_ITER, tol_ = VALUE_TOLER):\n",
        "    \"\"\"\n",
        "    Value function interation.\n",
        "    \"\"\"\n",
        "\n",
        "    x_j = generate_products(x_dist, J)\n",
        "\n",
        "    beta_ri = generate_rivals_coef(beta_dist, R, I)\n",
        "\n",
        "    V, values = init_V(beta_grids_1d)\n",
        "\n",
        "    for i in range(MAX_VALUE_ITER):\n",
        "        V_new, values_new = update_V(V, x_j, beta_ri, beta_grids, prob_rival_num, kappa, delta)\n",
        "        distance = tf.norm(values_new - values, ord='fro', axis=(0, 1))\n",
        "        print('Frobenius distance between two iteration:',distance.numpy())\n",
        "        V, values = V_new, values_new\n",
        "        if distance < VALUE_TOLER:\n",
        "            break\n",
        "\n",
        "    return V, values"
      ],
      "metadata": {
        "id": "8fiRME2eQJ7p"
      },
      "execution_count": 2,
      "outputs": []
    },
    {
      "cell_type": "code",
      "source": [
        "%%time\n",
        "V, values = VFI(x_dist, beta_dist)"
      ],
      "metadata": {
        "colab": {
          "base_uri": "https://localhost:8080/"
        },
        "id": "RPZa28uBQM8L",
        "outputId": "720002d6-ca60-4a5d-e3ae-9d773256be33"
      },
      "execution_count": 3,
      "outputs": [
        {
          "output_type": "stream",
          "name": "stdout",
          "text": [
            "Frobenius distance between two iteration: 1.9279960765370674\n",
            "Frobenius distance between two iteration: 1.1255166963476915\n",
            "Frobenius distance between two iteration: 0.660309534898372\n",
            "Frobenius distance between two iteration: 0.42193478927022426\n",
            "Frobenius distance between two iteration: 0.26462401137719843\n",
            "Frobenius distance between two iteration: 0.1711735406192796\n",
            "Frobenius distance between two iteration: 0.10969696299277093\n",
            "Frobenius distance between two iteration: 0.07130264415413524\n",
            "Frobenius distance between two iteration: 0.04616989188989293\n",
            "Frobenius distance between two iteration: 0.030114823019827052\n",
            "Frobenius distance between two iteration: 0.019628999709017946\n",
            "Frobenius distance between two iteration: 0.012848029652971672\n",
            "Frobenius distance between two iteration: 0.008411962663846483\n",
            "Frobenius distance between two iteration: 0.005521982830646176\n",
            "Frobenius distance between two iteration: 0.003627563439237397\n",
            "Frobenius distance between two iteration: 0.00238734972562903\n",
            "Frobenius distance between two iteration: 0.0015725102428255171\n",
            "Frobenius distance between two iteration: 0.001037137769535924\n",
            "Frobenius distance between two iteration: 0.0006846576343968393\n",
            "CPU times: user 53 s, sys: 1e+03 ms, total: 54 s\n",
            "Wall time: 53.8 s\n"
          ]
        }
      ]
    },
    {
      "cell_type": "code",
      "source": [
        "import matplotlib.pyplot as plt\n",
        "\n",
        "def plot_contour():\n",
        "    # Generate data points\n",
        "    x = np.linspace(0, 1, 100)\n",
        "    y = np.linspace(0, 1, 100)\n",
        "\n",
        "    # Create a meshgrid from the data points\n",
        "    Y, X = np.meshgrid(x, y)\n",
        "\n",
        "    # Evaluate the function at each point in the meshgrid\n",
        "    Z = V(cartesian_product(x, 2))  # Assuming V and cartesian_product are defined elsewhere\n",
        "    Z = tf.reshape(Z, [100, 100])\n",
        "\n",
        "    # Create a contour plot\n",
        "    plt.figure(figsize=(8, 6))\n",
        "    contour = plt.contour(X, Y, Z, cmap='viridis')\n",
        "\n",
        "    # Add labels and a color bar\n",
        "    plt.title('Continuation Value')\n",
        "    plt.xlabel('beta1')\n",
        "    plt.ylabel('beta2')\n",
        "    plt.colorbar(contour, label='Continuation Value')\n",
        "\n",
        "    # Show the plot\n",
        "    plt.show()\n",
        "\n",
        "plot_contour()"
      ],
      "metadata": {
        "colab": {
          "base_uri": "https://localhost:8080/",
          "height": 564
        },
        "id": "srHQ0rOlQWMG",
        "outputId": "7d93fb63-3c73-4ccf-ace6-f8f22493febc"
      },
      "execution_count": 4,
      "outputs": [
        {
          "output_type": "display_data",
          "data": {
            "text/plain": [
              "<Figure size 800x600 with 2 Axes>"
            ],
            "image/png": "[encoded data removed]"
          },
          "metadata": {}
        }
      ]
    },
    {
      "cell_type": "code",
      "source": [
        "numSIM_BETABASE = 100\n",
        "numSIM_J = 500\n",
        "numSIM_RIVAL_I = 2000\n",
        "numSIM_XBASE = 100\n",
        "\n",
        "beta_base = np.linspace(BETA_MIN, BETA_MAX, numSIM_BETABASE)\n",
        "beta_i = cartesian_product(beta_base, 2)\n",
        "\n",
        "# x_j = generate_products(x_dist, J=numSIM_J)\n",
        "x_base = np.linspace(X_MIN, X_MAX, numSIM_XBASE)\n",
        "x_j = cartesian_product(x_base, 2)\n",
        "\n",
        "beta_ri = generate_rivals_coef(beta_dist, R=numR, I=numSIM_RIVAL_I)\n",
        "_, v_rival_max_rji = compute_rival_psuedo(beta_ri, x_j, V, delta)\n",
        "\n",
        "profit_lst = []\n",
        "for beta in beta_i:\n",
        "    _, profit_j = value_1d(beta, x_j, v_rival_max_rji, V, prob_rival_num=prob_rival, kappa=kappa, delta=delta)\n",
        "    profit_lst.append(profit_j)\n",
        "\n",
        "profit_ji = tf.transpose(tf.stack(profit_lst))\n",
        "\n",
        "entry_ji = tf.cast(profit_ji-kappa >= 0, tf.float64)\n",
        "# assert profit_ji.shape == (numSIM_J, numSIM_BETABASE**2)\n",
        "# assert entry_ji.shape == (numSIM_J, numSIM_BETABASE**2)"
      ],
      "metadata": {
        "id": "RUe6PNcqUGJK"
      },
      "execution_count": 5,
      "outputs": []
    },
    {
      "cell_type": "code",
      "source": [
        "bid_ji = x_j @ tf.transpose(beta_i) - V(beta_i)"
      ],
      "metadata": {
        "id": "1GEV976lmVb1"
      },
      "execution_count": 24,
      "outputs": []
    },
    {
      "cell_type": "code",
      "source": [
        "def result_1d(x, beta, x_dist, beta_dist, prob_rival_num, V):\n",
        "    x_j=tf.expand_dims(x, axis=0)\n",
        "    beta_ri = generate_rivals_coef(beta_dist, R=numR, I=1000)\n",
        "    v_j = compute_buyers_psuedo(beta_i, x_j, V, delta)\n",
        "    _, v_rival_max_rji = compute_rival_psuedo(beta_ri, x_j, V, delta)\n",
        "    _, profit_j = value_1d(beta, x_j, v_rival_max_rji, V, prob_rival_num, kappa, delta)\n",
        "    return profit_j[0]\n",
        "\n"
      ],
      "metadata": {
        "id": "JtSjT8hQslPu"
      },
      "execution_count": 18,
      "outputs": []
    },
    {
      "cell_type": "code",
      "source": [
        "j = 2000\n",
        "entry_j_mat = tf.reshape(entry_ji[j,:], (numSIM_BETABASE, numSIM_BETABASE))\n",
        "profit_j_mat = tf.reshape(profit_ji[j,:], (numSIM_BETABASE, numSIM_BETABASE))\n",
        "bid_j_mat = tf.reshape(bid_ji[j,:], (numSIM_BETABASE, numSIM_BETABASE))\n",
        "\n",
        "def plot_contour_entry(x, entry_j_mat, beta_base):\n",
        "\n",
        "    # Create a meshgrid from the data points\n",
        "    #    return order is Y, X; I have checked this multiple time.\n",
        "    Y, X = np.meshgrid(beta_base, beta_base)\n",
        "\n",
        "\n",
        "    # Evaluate the function at each point in the meshgrid\n",
        "    Z = entry_j_mat  # Assuming V and cartesian_product are defined elsewhere\n",
        "\n",
        "    # Create a contour plot\n",
        "    plt.figure(figsize=(7, 6))\n",
        "    contour = plt.contourf(X, Y, Z, levels=[0,0.5,1],cmap='viridis')\n",
        "\n",
        "    # Add labels and a color bar\n",
        "    plt.title(f'Entry Strategy of Product {np.round(x.numpy(), 3)}')\n",
        "    plt.xlabel('beta1')\n",
        "    plt.ylabel('beta2')\n",
        "    #plt.colorbar(contour, label='Continuation Value')\n",
        "\n",
        "    # Show the plot\n",
        "    plt.show()\n",
        "\n",
        "\n",
        "print('product coefficient:', x_j[j])\n",
        "plot_contour_entry(x_j[j], entry_j_mat, beta_base)\n",
        "\n"
      ],
      "metadata": {
        "colab": {
          "base_uri": "https://localhost:8080/",
          "height": 582
        },
        "id": "NorMfuWDUGsf",
        "outputId": "9b88a3ab-1250-4c7e-b420-fa079318b87b"
      },
      "execution_count": 25,
      "outputs": [
        {
          "output_type": "stream",
          "name": "stdout",
          "text": [
            "product coefficient: tf.Tensor([0.2020202 0.       ], shape=(2,), dtype=float64)\n"
          ]
        },
        {
          "output_type": "display_data",
          "data": {
            "text/plain": [
              "<Figure size 700x600 with 1 Axes>"
            ],
            "image/png": "[encoded data removed]"
          },
          "metadata": {}
        }
      ]
    },
    {
      "cell_type": "code",
      "source": [
        "def plot_contour_profit(x, profit_j_mat, beta_base):\n",
        "\n",
        "    # Create a meshgrid from the data points\n",
        "    #    return order is Y, X; I have checked this multiple time.\n",
        "    Y, X = np.meshgrid(beta_base, beta_base)\n",
        "\n",
        "\n",
        "    # Evaluate the function at each point in the meshgrid\n",
        "    Z = profit_j_mat  # Assuming V and cartesian_product are defined elsewhere\n",
        "\n",
        "    # Create a contour plot\n",
        "    plt.figure(figsize=(8, 6))\n",
        "    contour = plt.contourf(X, Y, Z,cmap='viridis')\n",
        "\n",
        "    # Add labels and a color bar\n",
        "    plt.title(f'Expected Profit from Bidding Product {np.round(x.numpy(), 3)}')\n",
        "    plt.xlabel('beta1')\n",
        "    plt.ylabel('beta2')\n",
        "    plt.colorbar(contour, label='Profit')\n",
        "\n",
        "    # Show the plot\n",
        "    plt.show()\n",
        "\n",
        "\n",
        "print('product coefficient:', x_j[j])\n",
        "plot_contour_profit(x_j[j], profit_j_mat, beta_base)"
      ],
      "metadata": {
        "colab": {
          "base_uri": "https://localhost:8080/",
          "height": 582
        },
        "id": "KPxK1FDhiYxf",
        "outputId": "3f6aafe5-0ca7-429c-a7c0-3d01c72bec24"
      },
      "execution_count": 26,
      "outputs": [
        {
          "output_type": "stream",
          "name": "stdout",
          "text": [
            "product coefficient: tf.Tensor([0.2020202 0.       ], shape=(2,), dtype=float64)\n"
          ]
        },
        {
          "output_type": "display_data",
          "data": {
            "text/plain": [
              "<Figure size 800x600 with 2 Axes>"
            ],
            "image/png": "[encoded data removed]"
          },
          "metadata": {}
        }
      ]
    },
    {
      "cell_type": "code",
      "source": [
        "def plot_contour_profit(x, profit_j_mat, beta_base):\n",
        "\n",
        "    # Create a meshgrid from the data points\n",
        "    #    return order is Y, X; I have checked this multiple time.\n",
        "    Y, X = np.meshgrid(beta_base, beta_base)\n",
        "\n",
        "\n",
        "    # Evaluate the function at each point in the meshgrid\n",
        "    Z = profit_j_mat  # Assuming V and cartesian_product are defined elsewhere\n",
        "\n",
        "    # Create a contour plot\n",
        "    plt.figure(figsize=(8, 6))\n",
        "    contour = plt.contourf(X, Y, Z,cmap='viridis')\n",
        "\n",
        "    # Add labels and a color bar\n",
        "    plt.title(f'Expected Profit from Bidding Product {np.round(x.numpy(), 3)}')\n",
        "    plt.xlabel('beta1')\n",
        "    plt.ylabel('beta2')\n",
        "    plt.colorbar(contour, label='Profit')\n",
        "\n",
        "    # Show the plot\n",
        "    plt.show()\n",
        "\n",
        "\n",
        "print('product coefficient:', x_j[j])\n",
        "plot_contour_profit(x_j[j], bid_j_mat, beta_base)"
      ],
      "metadata": {
        "colab": {
          "base_uri": "https://localhost:8080/",
          "height": 582
        },
        "id": "0ZyMkDrMnjZO",
        "outputId": "7d1280bb-4999-4148-a792-fa8a0f0874a8"
      },
      "execution_count": 27,
      "outputs": [
        {
          "output_type": "stream",
          "name": "stdout",
          "text": [
            "product coefficient: tf.Tensor([0.2020202 0.       ], shape=(2,), dtype=float64)\n"
          ]
        },
        {
          "output_type": "display_data",
          "data": {
            "text/plain": [
              "<Figure size 800x600 with 2 Axes>"
            ],
            "image/png": "[encoded data removed]"
          },
          "metadata": {}
        }
      ]
    },
    {
      "cell_type": "code",
      "source": [
        "def simulate_data():\n",
        "    \"\"\"\n",
        "    Simluate auction data observed by economists\n",
        "\n",
        "    \"\"\"\n",
        "    return product_j, bids_ji"
      ],
      "metadata": {
        "id": "BPY99Y6MAzkl"
      },
      "execution_count": null,
      "outputs": []
    },
    {
      "cell_type": "code",
      "source": [],
      "metadata": {
        "id": "FeuXCSYjAzum"
      },
      "execution_count": null,
      "outputs": []
    },
    {
      "cell_type": "code",
      "source": [],
      "metadata": {
        "id": "qPhqSpbUAz12"
      },
      "execution_count": null,
      "outputs": []
    },
    {
      "cell_type": "code",
      "source": [],
      "metadata": {
        "id": "ZrmwbvFBAz8W"
      },
      "execution_count": null,
      "outputs": []
    },
    {
      "cell_type": "code",
      "source": [],
      "metadata": {
        "id": "DV4RWITIA0Cl"
      },
      "execution_count": null,
      "outputs": []
    },
    {
      "cell_type": "code",
      "source": [],
      "metadata": {
        "id": "MlhP8qYHA0IU"
      },
      "execution_count": null,
      "outputs": []
    },
    {
      "cell_type": "code",
      "source": [],
      "metadata": {
        "id": "78YaEwy1A0Nx"
      },
      "execution_count": null,
      "outputs": []
    },
    {
      "cell_type": "code",
      "source": [],
      "metadata": {
        "id": "1rPDa0u4A0Tn"
      },
      "execution_count": null,
      "outputs": []
    },
    {
      "cell_type": "code",
      "source": [
        "# J distinct products (characterized by a K-dim vector) draw from x_dist\n",
        "x_jk: Final  = x_dist.sample(numJ) # J*K matrix\n",
        "# repeat J*K matrix to get R*J*K matrix. Each rival bidder faces the same product.\n",
        "x: Final = tf.repeat(tf.expand_dims(x_jk, axis=0), repeats=numR, axis=0)\n",
        "\n",
        "# get beta_rival, R*I*K\n",
        "beta_rival = beta_dist.sample((numR, numI))\n",
        "\n",
        "def init_V(beta_grids_1d):\n",
        "    values = np.zeros([numGrid]*numK)\n",
        "    # V_scipy is a callable, mapping beta to value (as numpy array)\n",
        "    V_scipy = scipy.interpolate.RegularGridInterpolator((beta_grids_1d, beta_grids_1d), values)\n",
        "    # V_scipy is a callable, mapping beta to value (as tensor)\n",
        "    V = lambda x: tf.constant(V_scipy(x))\n",
        "    return V, values\n",
        "\n",
        "def generate_rivals(V):\n",
        "\n",
        "    # get v_rival, R*J*I\n",
        "    # v_rival(r,j,i) is the bid of a rival type beta_rival(r, i) for product x_(j)\n",
        "    # V(beta) is R*I, repeat it along a new dimension to obtain a tensor of shape R×J×I\n",
        "    v_beta = tf.repeat(tf.expand_dims(V(beta_rival), axis=1), repeats=numJ, axis=1)\n",
        "    v_rival = tf.einsum('rik,rjk->rji', beta_rival, x) - delta * v_beta\n",
        "\n",
        "    # get v_rival_tilde, R*J*I\n",
        "    # v_rival_tilde(r,j,i) is the maximum bid of among r bidders\n",
        "    v_rival_tilde_lst = []\n",
        "    for i in range(numR):\n",
        "        v_rival_tilde_lst.append(tf.reduce_max(v_rival[:i+1,:,:], axis=0))\n",
        "    v_rival_tilde = tf.stack(v_rival_tilde_lst)\n",
        "\n",
        "    return beta_rival, v_rival, v_rival_tilde\n",
        "\n",
        "def update_value(pref_coef: tf.Tensor, product_coef: tf.Tensor, v_rival_tilde: tf.Tensor) -> tf.Tensor:\n",
        "\n",
        "    assert product_coef.shape == (numJ, numK)\n",
        "    assert pref_coef.shape == (numK)\n",
        "    assert v_rival_tilde.shape == (numR, numJ, numI)\n",
        "\n",
        "    # R*I*K\n",
        "    beta_bar = tf.repeat(tf.expand_dims(pref_coef, axis=0), repeats=numI, axis=0)\n",
        "\n",
        "    # J*I\n",
        "    v_tilde_slice = product_coef @ tf.transpose(beta_bar) - delta * V(beta_bar)\n",
        "    # R*J*I\n",
        "    v_tilde = tf.repeat(tf.expand_dims(v_tilde_slice, axis=0), repeats=numR, axis=0)\n",
        "\n",
        "    # profit if number of rivals is know.\n",
        "    profit_rji = tf.nn.relu(v_tilde - v_rival_tilde)\n",
        "    # profit weigted by the probability of rival number occurance.\n",
        "    profit_rji_weighted = profit_rji * tf.expand_dims(tf.expand_dims(prob_rival, axis=1), axis=2)\n",
        "    profit_ji = tf.reduce_sum(profit_rji_weighted, axis=0)\n",
        "    # expected profit for each product if enter\n",
        "    profit_j = tf.reduce_sum(profit_ji / numI, axis=0)\n",
        "\n",
        "    # expected profit before knowing the product type, rival type, and number of rivals.\n",
        "    value = tf.reduce_sum(tf.nn.relu(profit_j - kappa)) / numJ\n",
        "\n",
        "    return value, profit_j\n",
        "\n",
        "def update_V(V_old, beta_grids_1d):\n",
        "    _, _, v_rival_tilde = generate_rivals(V_old)\n",
        "\n",
        "    values_next = []\n",
        "    for beta in beta_grids:\n",
        "        value_at_beta, _ = update_value(pref_coef=beta, product_coef=x_jk, v_rival_tilde=v_rival_tilde)\n",
        "        values_next.append(value_at_beta)\n",
        "\n",
        "    # get values at grids to update V, NumPy type\n",
        "    values = tf.reshape(tf.stack(values_next), [numGrid]*numK).numpy()\n",
        "    # V_scipy is a callable, mapping beta to value (as numpy array)\n",
        "    V_scipy = scipy.interpolate.RegularGridInterpolator((beta_grids_1d, beta_grids_1d), values)\n",
        "    # V_scipy is a callable, mapping beta to value (as tensor)\n",
        "    V_new = lambda x: tf.constant(V_scipy(x))\n",
        "    return V_new, values\n",
        "\n",
        "\n",
        "\n"
      ],
      "metadata": {
        "colab": {
          "base_uri": "https://localhost:8080/"
        },
        "id": "sNczeUkqSoIh",
        "outputId": "1e14b4e8-febd-44ee-fb81-e09b2e053c52"
      },
      "execution_count": 24,
      "outputs": [
        {
          "output_type": "stream",
          "name": "stdout",
          "text": [
            "CPU times: user 33.3 ms, sys: 2.99 ms, total: 36.3 ms\n",
            "Wall time: 35.1 ms\n"
          ]
        }
      ]
    },
    {
      "cell_type": "code",
      "source": [
        "def generate_products(x_dist, J):\n",
        "    \"\"\"\n",
        "    Randomly generate J products from distribution x_dist\n",
        "\n",
        "    Inputs\n",
        "    -------\n",
        "    x_dist : tfp.distributions.Distribution\n",
        "        product characteristics distribution\n",
        "    J : int\n",
        "        Number of products to generate\n",
        "\n",
        "    Returns\n",
        "    -------\n",
        "    products : Tensor (J * numK)\n",
        "        J random characteristics of numK dimension.\n",
        "    \"\"\"\n",
        "    x_jk = x_dist.sample(J)\n",
        "    return x_jk\n",
        "\n",
        "def generate_buyers(beta_dist, I):\n",
        "    beta_i = beta_dist.sample(I)\n",
        "    return beta_i\n",
        "\n",
        "def generate_rivals_coef(beta_dist, R, I):\n",
        "    \"\"\"\n",
        "    Randomly generate (R*I) rivals from distribution beta_dist\n",
        "\n",
        "    Returns\n",
        "    -------\n",
        "    rivals : Tensor (R * I * numK)\n",
        "        J random characteristics of numK dimension.\n",
        "    \"\"\"\n",
        "    return beta_dist.sample((R, I))\n",
        "\n",
        "def compute_buyers_psuedo(beta_i, x_j, V, delta):\n",
        "    \"\"\"\n",
        "    Compute buyer's psuedo types\n",
        "\n",
        "    Returns\n",
        "    -------\n",
        "    v_ji : Tensor (J * I)\n",
        "        (j,i)-element is the buyer i's psuedo valuation of product j\n",
        "    \"\"\"\n",
        "\n",
        "    return x_j @ tf.transpose(beta_i) - delta * V(beta_i)\n",
        "\n",
        "def compute_rival_psuedo(beta_ri, x_j, V, delta):\n",
        "    \"\"\"\n",
        "    Compute rival's psuedo types\n",
        "\n",
        "    Returns\n",
        "    -------\n",
        "    v_rival_rji : Tensor (R * J * I)\n",
        "        (r,j,i)-element is the rival r's psuedo valuation in auction i of product j.\n",
        "    v_rival_max_rji : Tensor (R * J * I)\n",
        "        (r,j,i)-element is the highest psuedo type of among rival <= r in auction i of product j.\n",
        "    \"\"\"\n",
        "\n",
        "    J = x_j.shape[0]\n",
        "    R = beta_ri.shape[0]\n",
        "\n",
        "    v_beta = tf.repeat(tf.expand_dims(V(beta_ri), axis=1), repeats=J, axis=1)\n",
        "    v_rival_rji = tf.einsum('rik,rjk->rji', beta_ri, x) - delta * v_beta\n",
        "\n",
        "    v_rival_max_lst = []\n",
        "    for i in range(R):\n",
        "        v_rival_max_lst.append(tf.reduce_max(v_rival_rji[:i+1,:,:], axis=0))\n",
        "    v_rival_max_rji = tf.stack(v_rival_max_lst)\n",
        "\n",
        "    return v_rival_rji, v_rival_max_rji\n",
        "\n",
        "def value_1d(beta, x_j, v_rival_max_rji, V, prob_rival_num, kappa, delta):\n",
        "    \"\"\"\n",
        "    Compute the continuation value.\n",
        "\n",
        "    Inputs\n",
        "    -------\n",
        "    beta : Tensor (numK,)\n",
        "        A buyer type to be evaluated\n",
        "    x_j : Tensor (J, K)\n",
        "        The product could be auction next period. (random, and follow some distribution)\n",
        "    v_rival_max_rji :  Tensor (R, J, I)\n",
        "        The possible highest rival in auction i for product j if the total number of rival is r\n",
        "    prob_rival_num : Tensor (R)\n",
        "        The probability of the number of rival == r+1\n",
        "\n",
        "    Returns\n",
        "    -------\n",
        "    value : Tensor\n",
        "        Value at beta.\n",
        "    profit_j :  Tensor (J)\n",
        "        The expected profit if the buyer enters an auction of product J\n",
        "    \"\"\"\n",
        "    K = beta.shape[0]\n",
        "    R, J, I  = v_rival_max_rji.shape\n",
        "    assert x_j.shape == (J,K)\n",
        "    assert prob_rival_num.shape[0] == R\n",
        "\n",
        "    beta_i = tf.repeat(tf.expand_dims(beta, axis=0), repeats=I, axis=0)\n",
        "    v_ji = compute_buyers_psuedo(beta_i, x_j, V, delta)\n",
        "    v_rji = tf.repeat(tf.expand_dims(v_ji, axis=0), repeats=R, axis=0)\n",
        "\n",
        "\n",
        "    profit_rji = tf.nn.relu(v_rji - v_rival_max_rji)\n",
        "    # profit weigted by the probability of rival number occurance.\n",
        "    profit_rji_weighted = profit_rji * tf.expand_dims(tf.expand_dims(prob_rival_num, axis=1), axis=2)\n",
        "    profit_ji = tf.reduce_sum(profit_rji_weighted, axis=0)\n",
        "    # expected profit for each product if enter\n",
        "    profit_j = tf.reduce_sum(profit_ji / I, axis=0)\n",
        "\n",
        "    # expected profit before knowing the product type, rival type, and number of rivals.\n",
        "    value = tf.reduce_sum(tf.nn.relu(profit_j - kappa)) / J\n",
        "\n",
        "    return value, profit_j\n",
        "\n",
        "def value(beta_i, x_j, v_rival_max_rji, V, prob_rival_num, kappa, delta):\n",
        "\n",
        "    I = beta_i.shape[0]\n",
        "\n",
        "    values_lst = []\n",
        "    for i in range(I):\n",
        "        beta = beta_i[i,:]\n",
        "        value_at_beta, _ = value_1d(beta, x_j, v_rival_max_rji, V, prob_rival_num, kappa, delta)\n",
        "        values_lst.append(value_at_beta)\n",
        "\n",
        "    # get values at grids to update V, NumPy type\n",
        "    values = tf.reshape(tf.stack(values_lst), [int(I ** (1/numK))]*numK).numpy()\n",
        "\n",
        "    return values\n",
        "\n",
        "\n",
        "def update_V(V_old, x_j, beta_ri, beta_grids, prob_rival_num, kappa, delta):\n",
        "\n",
        "    _, v_rival_max_rji = compute_rival_psuedo(beta_ri, x_j, V, delta)\n",
        "\n",
        "    values = value(beta_grids, x_j, v_rival_max_rji, V_old, prob_rival_num, kappa, delta)\n",
        "\n",
        "    V_scipy = scipy.interpolate.RegularGridInterpolator((beta_grids_1d, beta_grids_1d), values)\n",
        "    V_new = lambda x: tf.constant(V_scipy(x))\n",
        "\n",
        "    return V_new, values\n",
        "\n",
        "\n",
        "def init_V(beta_grids_1d):\n",
        "    num_grid = beta_grids_1d.shape[0]\n",
        "    assert num_grid == numGrid\n",
        "\n",
        "    values = np.zeros([numGrid]*numK)\n",
        "    # V_scipy is a callable, mapping beta to value (as numpy array)\n",
        "    V_scipy = scipy.interpolate.RegularGridInterpolator((beta_grids_1d, beta_grids_1d), values)\n",
        "    # V_scipy is a callable, mapping beta to value (as tensor)\n",
        "    V = lambda x: tf.constant(V_scipy(x))\n",
        "    return V, values\n",
        "\n",
        "\n",
        "def VFI(x_dist, beta_dist, grids=beta_grids, prob_rival_num=prob_rival, R=numR, I=numI, J=numJ, max_iter_ = MAX_VALUE_ITER, tol_ = VALUE_TOLER):\n",
        "\n",
        "    x_j = generate_products(x_dist, J)\n",
        "\n",
        "    beta_ri = generate_rivals_coef(beta_dist, R, I)\n",
        "\n",
        "    V, values = init_V(beta_grids_1d)\n",
        "\n",
        "    for i in range(MAX_VALUE_ITER):\n",
        "        V_new, values_new = update_V(V, x_j, beta_ri, beta_grids, prob_rival_num, kappa, delta)\n",
        "        distance = tf.norm(values_new - values, ord='fro', axis=(0, 1))\n",
        "        print('Frobenius distance between two iteration:',distance.numpy())\n",
        "        V, values = V_new, values_new\n",
        "        if distance < VALUE_TOLER:\n",
        "            break\n",
        "\n",
        "    return V, values"
      ],
      "metadata": {
        "id": "MB0bAuUx0tI4"
      },
      "execution_count": 54,
      "outputs": []
    },
    {
      "cell_type": "code",
      "source": [
        "VFI(x_dist, beta_dist)"
      ],
      "metadata": {
        "colab": {
          "base_uri": "https://localhost:8080/"
        },
        "id": "toGpCsWpMUsZ",
        "outputId": "5ffa935c-0c2d-4103-b2a4-1fc9517ae868"
      },
      "execution_count": 55,
      "outputs": [
        {
          "output_type": "stream",
          "name": "stdout",
          "text": [
            "Frobenius distance between two iteration: 3.8680807959663466\n",
            "Frobenius distance between two iteration: 1.840814881970044\n",
            "Frobenius distance between two iteration: 0.8262506786415355\n",
            "Frobenius distance between two iteration: 0.4015817654121641\n",
            "Frobenius distance between two iteration: 0.193789512460717\n",
            "Frobenius distance between two iteration: 0.09587476996033456\n",
            "Frobenius distance between two iteration: 0.047578276390391465\n",
            "Frobenius distance between two iteration: 0.023866486379221376\n",
            "Frobenius distance between two iteration: 0.012024392620419159\n",
            "Frobenius distance between two iteration: 0.006094579434133365\n",
            "Frobenius distance between two iteration: 0.003100994555953401\n",
            "Frobenius distance between two iteration: 0.0015841478152383616\n",
            "Frobenius distance between two iteration: 0.0008118145069730174\n"
          ]
        },
        {
          "output_type": "execute_result",
          "data": {
            "text/plain": [
              "(<function __main__.update_V.<locals>.<lambda>(x)>,\n",
              " array([[1.00125740e-05, 9.20154052e-05, 5.11446579e-04, 1.40484303e-03,\n",
              "         2.88909209e-03, 4.99518652e-03, 7.84809690e-03, 1.13860475e-02,\n",
              "         1.56048296e-02, 2.05494005e-02, 2.62989282e-02, 3.27995873e-02,\n",
              "         4.00101481e-02, 4.78816639e-02, 5.63569790e-02, 6.54278603e-02,\n",
              "         7.51001512e-02, 8.53672391e-02, 9.61928231e-02, 1.07536934e-01],\n",
              "        [1.00127750e-04, 4.12008662e-04, 1.18242910e-03, 2.41282302e-03,\n",
              "         4.29606364e-03, 6.95303414e-03, 1.02855252e-02, 1.42733353e-02,\n",
              "         1.89426400e-02, 2.43879627e-02, 3.06368655e-02, 3.76377432e-02,\n",
              "         4.53231771e-02, 5.36293690e-02, 6.25208904e-02, 7.20088243e-02,\n",
              "         8.20978140e-02, 9.27681551e-02, 1.03975739e-01, 1.15675618e-01],\n",
              "        [5.18137220e-04, 1.16999981e-03, 2.23624498e-03, 3.94674084e-03,\n",
              "         6.40476854e-03, 9.54052809e-03, 1.33289298e-02, 1.77410386e-02,\n",
              "         2.28750343e-02, 2.88266488e-02, 3.55833809e-02, 4.30648545e-02,\n",
              "         5.11902175e-02, 5.99045446e-02, 6.92155660e-02, 7.91339206e-02,\n",
              "         8.96409030e-02, 1.00702044e-01, 1.12267905e-01, 1.24283019e-01],\n",
              "        [1.34971819e-03, 2.34488042e-03, 3.91663278e-03, 6.17650626e-03,\n",
              "         9.10775476e-03, 1.26804158e-02, 1.68824956e-02, 2.17483709e-02,\n",
              "         2.73992618e-02, 3.38710727e-02, 4.11098027e-02, 4.90329070e-02,\n",
              "         5.75710679e-02, 6.67098641e-02, 7.64625913e-02, 8.68077361e-02,\n",
              "         9.77100230e-02, 1.09128936e-01, 1.21011942e-01, 1.33305093e-01],\n",
              "        [2.69895390e-03, 4.16437875e-03, 6.25091966e-03, 8.98594419e-03,\n",
              "         1.23361881e-02, 1.63486746e-02, 2.10066898e-02, 2.63920916e-02,\n",
              "         3.25730903e-02, 3.95374960e-02, 4.72144915e-02, 5.55557646e-02,\n",
              "         6.45202987e-02, 7.41037129e-02, 8.42851484e-02, 9.50292467e-02,\n",
              "         1.06292365e-01, 1.18032480e-01, 1.30200853e-01, 1.42756160e-01],\n",
              "        [4.66399857e-03, 6.62838102e-03, 9.18608364e-03, 1.23533926e-02,\n",
              "         1.61565191e-02, 2.06405611e-02, 2.58168860e-02, 3.17306867e-02,\n",
              "         3.84051918e-02, 4.58131419e-02, 5.39196031e-02, 6.26949068e-02,\n",
              "         7.20993176e-02, 8.21124115e-02, 9.26965862e-02, 1.03806951e-01,\n",
              "         1.15392841e-01, 1.27420081e-01, 1.39850265e-01, 1.52635096e-01],\n",
              "        [7.30877517e-03, 9.74393355e-03, 1.27580006e-02, 1.63969351e-02,\n",
              "         2.06835179e-02, 2.56703322e-02, 3.13560493e-02, 3.77525224e-02,\n",
              "         4.48792978e-02, 5.27130492e-02, 6.12447405e-02, 7.04496528e-02,\n",
              "         8.02778583e-02, 9.06952896e-02, 1.01649997e-01, 1.13089218e-01,\n",
              "         1.24969166e-01, 1.37263684e-01, 1.49933532e-01, 1.62929832e-01],\n",
              "        [1.06209028e-02, 1.35311015e-02, 1.70187762e-02, 2.11382687e-02,\n",
              "         2.59063947e-02, 3.13845022e-02, 3.75547402e-02, 4.44079496e-02,\n",
              "         5.19638623e-02, 6.02254364e-02, 6.91922881e-02, 7.88202534e-02,\n",
              "         8.90506899e-02, 9.98335401e-02, 1.11114280e-01, 1.22847648e-01,\n",
              "         1.34996718e-01, 1.47533269e-01, 1.60414776e-01, 1.73598374e-01],\n",
              "        [1.46075299e-02, 1.79725064e-02, 2.19400810e-02, 2.65295535e-02,\n",
              "         3.17780583e-02, 3.77363378e-02, 4.43690099e-02, 5.16613416e-02,\n",
              "         5.96571578e-02, 6.83655843e-02, 7.77588458e-02, 8.77902333e-02,\n",
              "         9.83944188e-02, 1.09513639e-01, 1.21099412e-01, 1.33106391e-01,\n",
              "         1.45497355e-01, 1.58240170e-01, 1.71297990e-01, 1.84630460e-01],\n",
              "        [1.92466469e-02, 2.30839621e-02, 2.75351800e-02, 3.25948462e-02,\n",
              "         3.83224537e-02, 4.47487855e-02, 5.18310029e-02, 5.95777290e-02,\n",
              "         6.80220370e-02, 7.71601084e-02, 8.69535072e-02, 9.73552674e-02,\n",
              "         1.08296028e-01, 1.19721393e-01, 1.31582800e-01, 1.43832949e-01,\n",
              "         1.56433443e-01, 1.69353429e-01, 1.82558187e-01, 1.96011360e-01],\n",
              "        [2.45702863e-02, 2.89064549e-02, 3.38255199e-02, 3.93566459e-02,\n",
              "         4.55613942e-02, 5.24472934e-02, 5.99869786e-02, 6.81874259e-02,\n",
              "         7.70615341e-02, 8.65980228e-02, 9.67517888e-02, 1.07481212e-01,\n",
              "         1.18727601e-01, 1.30428873e-01, 1.42533374e-01, 1.54991252e-01,\n",
              "         1.67764671e-01, 1.80825245e-01, 1.94144183e-01, 2.07696202e-01],\n",
              "        [3.06414165e-02, 3.54533576e-02, 4.08394207e-02, 4.68442139e-02,\n",
              "         5.35166887e-02, 6.08552067e-02, 6.88422049e-02, 7.74689647e-02,\n",
              "         8.67345541e-02, 9.66254165e-02, 1.07098218e-01, 1.18126740e-01,\n",
              "         1.29644573e-01, 1.41585194e-01, 1.53893990e-01, 1.66524536e-01,\n",
              "         1.79439711e-01, 1.92616266e-01, 2.06032631e-01, 2.19669371e-01],\n",
              "        [3.74737277e-02, 4.27424193e-02, 4.85890490e-02, 5.50570370e-02,\n",
              "         6.21838826e-02, 6.99554957e-02, 7.83606407e-02, 8.73734977e-02,\n",
              "         9.69902615e-02, 1.07192104e-01, 1.17955026e-01, 1.29246940e-01,\n",
              "         1.40997899e-01, 1.53140017e-01, 1.65619823e-01, 1.78392808e-01,\n",
              "         1.91427102e-01, 2.04703854e-01, 2.18202649e-01, 2.31910586e-01],\n",
              "        [4.50310929e-02, 5.07415683e-02, 5.70438494e-02, 6.39646851e-02,\n",
              "         7.15143314e-02, 7.96984427e-02, 8.84841869e-02, 9.78445033e-02,\n",
              "         1.07772378e-01, 1.18260038e-01, 1.29282485e-01, 1.40800644e-01,\n",
              "         1.52749088e-01, 1.65060052e-01, 1.77683079e-01, 1.90575560e-01,\n",
              "         2.03710343e-01, 2.17068719e-01, 2.30635447e-01, 2.44400112e-01],\n",
              "        [5.32746755e-02, 5.94225961e-02, 6.61700604e-02, 7.35153697e-02,\n",
              "         8.14615761e-02, 9.00228699e-02, 9.91515076e-02, 1.08825393e-01,\n",
              "         1.19039338e-01, 1.29783734e-01, 1.41033995e-01, 1.52746453e-01,\n",
              "         1.64862465e-01, 1.77316762e-01, 1.90060342e-01, 2.03053793e-01,\n",
              "         2.16270396e-01, 2.29694575e-01, 2.43313959e-01, 2.57121463e-01],\n",
              "        [6.21620058e-02, 6.87412272e-02, 7.59083044e-02, 8.36453005e-02,\n",
              "         9.19575917e-02, 1.00864228e-01, 1.10306501e-01, 1.20266061e-01,\n",
              "         1.30739831e-01, 1.41715919e-01, 1.53165498e-01, 1.65044736e-01,\n",
              "         1.77302020e-01, 1.89879063e-01, 2.02725035e-01, 2.15801176e-01,\n",
              "         2.29084054e-01, 2.42560541e-01, 2.56221120e-01, 2.70060441e-01],\n",
              "        [7.16567522e-02, 7.86447655e-02, 8.61983277e-02, 9.42952864e-02,\n",
              "         1.02948687e-01, 1.12169583e-01, 1.21902577e-01, 1.32122783e-01,\n",
              "         1.42832799e-01, 1.54014342e-01, 1.65633427e-01, 1.77653594e-01,\n",
              "         1.90032689e-01, 2.02712634e-01, 2.15643226e-01, 2.28788580e-01,\n",
              "         2.42126633e-01, 2.55645714e-01, 2.69339010e-01, 2.83201224e-01],\n",
              "        [8.17158995e-02, 8.90819779e-02, 9.69925232e-02, 1.05427480e-01,\n",
              "         1.14395299e-01, 1.23908523e-01, 1.33908795e-01, 1.44367131e-01,\n",
              "         1.55285020e-01, 1.66640552e-01, 1.78404386e-01, 1.90544222e-01,\n",
              "         2.03023429e-01, 2.15787796e-01, 2.28788614e-01, 2.41988899e-01,\n",
              "         2.55371229e-01, 2.68925562e-01, 2.82646227e-01, 2.96528358e-01],\n",
              "        [9.22925411e-02, 1.00010449e-01, 1.08257034e-01, 1.17009258e-01,\n",
              "         1.26269345e-01, 1.36048927e-01, 1.46293003e-01, 1.56963038e-01,\n",
              "         1.68058763e-01, 1.79564355e-01, 1.91449566e-01, 2.03688936e-01,\n",
              "         2.16249895e-01, 2.29083348e-01, 2.42138449e-01, 2.55382652e-01,\n",
              "         2.68801377e-01, 2.82385573e-01, 2.96128588e-01, 3.10026096e-01],\n",
              "        [1.03349736e-01, 1.11398902e-01, 1.19959685e-01, 1.29006405e-01,\n",
              "         1.38532557e-01, 1.48553659e-01, 1.59013358e-01, 1.69868991e-01,\n",
              "         1.81117477e-01, 1.92750727e-01, 2.04737396e-01, 2.17059138e-01,\n",
              "         2.29687302e-01, 2.42575703e-01, 2.55674330e-01, 2.68953842e-01,\n",
              "         2.82404546e-01, 2.96014193e-01, 3.09775756e-01, 3.23684391e-01]]))"
            ]
          },
          "metadata": {},
          "execution_count": 55
        }
      ]
    },
    {
      "cell_type": "code",
      "source": [
        "-%%time\n",
        "V, values = View = init_V(beta_grids_1d)\n",
        "for _ in range(MAX_VALUE_ITER):\n",
        "    V_new, values_new = update_V(V, beta_grids_1d)\n",
        "    distance = tf.norm(values_new - values, ord='fro', axis=(0, 1))\n",
        "    print('Frobenius distance between two iteration:',distance.numpy())\n",
        "    V, values = V_new, values_new\n",
        "    if distance < VALUE_TOLER:\n",
        "        break"
      ],
      "metadata": {
        "colab": {
          "base_uri": "https://localhost:8080/"
        },
        "id": "4RWokNGAnY5a",
        "outputId": "8d7f5b38-252d-4a26-8881-a6a821162d03"
      },
      "execution_count": 25,
      "outputs": [
        {
          "output_type": "stream",
          "name": "stdout",
          "text": [
            "Frobenius distance between two iteration: 2.388553620763537\n",
            "Frobenius distance between two iteration: 1.2606625014499349\n",
            "Frobenius distance between two iteration: 0.741425188300566\n",
            "Frobenius distance between two iteration: 0.47691399056420636\n",
            "Frobenius distance between two iteration: 0.3022834651081934\n",
            "Frobenius distance between two iteration: 0.19778928976312957\n",
            "Frobenius distance between two iteration: 0.1285433048611764\n",
            "Frobenius distance between two iteration: 0.08474388680435806\n",
            "Frobenius distance between two iteration: 0.05574510697977889\n",
            "Frobenius distance between two iteration: 0.03693632157282482\n",
            "Frobenius distance between two iteration: 0.024468446005824554\n",
            "Frobenius distance between two iteration: 0.016274614328608234\n",
            "Frobenius distance between two iteration: 0.010830891193073313\n",
            "Frobenius distance between two iteration: 0.007225855364014548\n",
            "Frobenius distance between two iteration: 0.0048247495198800346\n",
            "Frobenius distance between two iteration: 0.0032268499051804345\n",
            "Frobenius distance between two iteration: 0.002160009712176787\n",
            "Frobenius distance between two iteration: 0.0014476236824746704\n",
            "Frobenius distance between two iteration: 0.0009709656980604384\n",
            "Frobenius distance between two iteration: 0.0006518656322668314\n",
            "Frobenius distance between two iteration: 0.0004379516936952614\n",
            "Frobenius distance between two iteration: 0.00029445887594940697\n",
            "Frobenius distance between two iteration: 0.0001981080114513002\n",
            "Frobenius distance between two iteration: 0.000133369897313592\n",
            "Frobenius distance between two iteration: 8.983809483692673e-05\n"
          ]
        }
      ]
    },
    {
      "cell_type": "code",
      "source": [
        "import matplotlib.pyplot as plt\n",
        "\n",
        "def plot_contour():\n",
        "    # Generate data points\n",
        "    x = np.linspace(0, 1, 100)\n",
        "    y = np.linspace(0, 1, 100)\n",
        "\n",
        "    # Create a meshgrid from the data points\n",
        "    X, Y = np.meshgrid(x, y)\n",
        "\n",
        "    # Evaluate the function at each point in the meshgrid\n",
        "    Z = V(cartesian_product(x, 2))  # Assuming V and cartesian_product are defined elsewhere\n",
        "    Z = tf.reshape(Z, [100, 100])\n",
        "\n",
        "    # Create a contour plot\n",
        "    plt.figure(figsize=(8, 6))\n",
        "    contour = plt.contour(X, Y, Z, cmap='viridis')\n",
        "\n",
        "    # Add labels and a color bar\n",
        "    plt.title('Continuation Value')\n",
        "    plt.xlabel('beta1')\n",
        "    plt.ylabel('beta2')\n",
        "    plt.colorbar(contour, label='Continuation Value')\n",
        "\n",
        "    # Show the plot\n",
        "    plt.show()\n",
        "\n",
        "plot_contour()"
      ],
      "metadata": {
        "colab": {
          "base_uri": "https://localhost:8080/",
          "height": 564
        },
        "id": "DN4l2_M7WJsX",
        "outputId": "cf35979b-2773-47ae-940b-3aecb8650412"
      },
      "execution_count": 26,
      "outputs": [
        {
          "output_type": "display_data",
          "data": {
            "text/plain": [
              "<Figure size 800x600 with 2 Axes>"
            ],
            "image/png": "[encoded data removed]"
          },
          "metadata": {}
        }
      ]
    },
    {
      "cell_type": "code",
      "source": [
        "# def strategy(product_coef, beta, V):\n",
        "#     \"\"\"\n",
        "#     The entry and bidding strategy when the product is x\n",
        "#     \"\"\"\n",
        "\n",
        "#     assert product_coef.shape == (numK)\n",
        "#     assert beta.shape[1] == numK\n",
        "\n",
        "#     numbeta = beta.shape[0]\n",
        "#     _, _, v_rival_tilde = generate_rivals(V)\n",
        "#     x = tf.expand_dims(product_coef, axis=0)\n",
        "#     bids = x @ tf.transpose(beta) - V(beta))\n",
        "#     entry\n",
        "\n",
        "#     return 0\n",
        "#     #return entry, bids\n",
        "\n",
        "def strategy(V, pref_coef):\n",
        "\n",
        "    # if pref_coef is a 1d vector, expand to 2d\n",
        "    if tf.rank(pref_coef).numpy() == 1:\n",
        "        pref_coef = tf.expand_dims(pref_coef, axis=0)\n",
        "\n",
        "    _, _, v_rival_tilde = generate_rivals(V) # R*J*I\n",
        "\n",
        "    profits_j = []\n",
        "    for i in range(pref_coef.shape[0]):\n",
        "        beta = pref_coef[i,:]\n",
        "        print(beta)\n",
        "        _, profit_j= update_value(pref_coef=beta, product_coef=x_jk, v_rival_tilde=v_rival_tilde)\n",
        "        profits_j.append(profit_j)\n",
        "\n",
        "    value = tf.stack(profits_j) # J*I\n",
        "\n",
        "    print(value)\n",
        "    return 0\n",
        "\n",
        "pref_coef = tf.constant([[0.3, 0.8], [0.5, 0.5]], dtype=tf.float64)\n",
        "strategy(V, pref_coef)\n"
      ],
      "metadata": {
        "colab": {
          "base_uri": "https://localhost:8080/"
        },
        "id": "vv2xUIr7gxcO",
        "outputId": "e42a166f-1dba-4ac4-d355-f9618b3178f8"
      },
      "execution_count": 31,
      "outputs": [
        {
          "output_type": "stream",
          "name": "stdout",
          "text": [
            "tf.Tensor([0.3 0.8], shape=(2,), dtype=float64)\n",
            "tf.Tensor([0.5 0.5], shape=(2,), dtype=float64)\n",
            "tf.Tensor(\n",
            "[[0.00038943 0.04892008 0.05422281 ... 0.02889398 0.01195602 0.04870015]\n",
            " [0.01687887 0.00959242 0.0062356  ... 0.01357218 0.01073832 0.01828543]], shape=(2, 1000), dtype=float64)\n"
          ]
        },
        {
          "output_type": "execute_result",
          "data": {
            "text/plain": [
              "0"
            ]
          },
          "metadata": {},
          "execution_count": 31
        }
      ]
    },
    {
      "cell_type": "code",
      "source": [],
      "metadata": {
        "colab": {
          "base_uri": "https://localhost:8080/"
        },
        "id": "_rp4VpR_Yvc4",
        "outputId": "5fe55b99-c5c5-45e5-cdb9-097b67517e43"
      },
      "execution_count": null,
      "outputs": [
        {
          "output_type": "execute_result",
          "data": {
            "text/plain": [
              "<tf.Tensor: shape=(10000,), dtype=float64, numpy=\n",
              "array([1.10543683e-05, 1.19025207e-05, 1.27506731e-05, ...,\n",
              "       2.57338731e-01, 2.60133848e-01, 2.62928965e-01])>"
            ]
          },
          "metadata": {},
          "execution_count": 17
        }
      ]
    },
    {
      "cell_type": "code",
      "source": [
        "#################\n",
        "# scipy.interpolate.LinearNDInterpolator is not suitable.\n",
        "# It is used for 'unregular', usually sparse, grid.\n",
        "#################\n",
        "\n",
        "# beta_grids_1d = tf.linspace(BETA_MIN, BETA_MAX, numGrid)\n",
        "# beta_grids = cartesian_product(beta_grids_1d, numK)\n",
        "# values_init = beta_grids @ np.array([1]*numK)\n",
        "# # V_scipy is a callable, mapping beta to value (as numpy array)\n",
        "# V_scipy = scipy.interpolate.LinearNDInterpolator(beta_grids, values_init)\n",
        "# # V_scipy is a callable, mapping beta to value (as tensor)\n",
        "# V = lambda x: tf.constant(V_scipy(x))\n",
        "\n",
        "\n",
        "def init_V(beta_grids_1d):\n",
        "    values = np.zeros([numGrid]*numK)\n",
        "    # V_scipy is a callable, mapping beta to value (as numpy array)\n",
        "    V_scipy = scipy.interpolate.RegularGridInterpolator((beta_grids_1d, beta_grids_1d), values)\n",
        "    # V_scipy is a callable, mapping beta to value (as tensor)\n",
        "    V = lambda x: tf.constant(V_scipy(x))\n",
        "    return V\n",
        "\n",
        "\n",
        "# beta = beta_dist.sample(numI)\n",
        "# x = x_dist.sample(numJ)\n",
        "\n",
        "# V = init_V(beta_grids_1d)\n",
        "# v_tilde = x @ tf.transpose(beta) - delta * V(beta)\n",
        "\n",
        "# v_tilde\n"
      ],
      "metadata": {
        "id": "OTx4S-I_S7VE"
      },
      "execution_count": null,
      "outputs": []
    },
    {
      "cell_type": "code",
      "source": [],
      "metadata": {
        "id": "PXNlglNja-qI",
        "colab": {
          "base_uri": "https://localhost:8080/"
        },
        "outputId": "f36c1982-4df5-4f61-b56d-cdb169a45356"
      },
      "execution_count": null,
      "outputs": [
        {
          "output_type": "stream",
          "name": "stdout",
          "text": [
            "tf.Tensor(1.303619288871049, shape=(), dtype=float64)\n",
            "tf.Tensor(0.7033526372984477, shape=(), dtype=float64)\n",
            "tf.Tensor(0.4197419401749958, shape=(), dtype=float64)\n",
            "tf.Tensor(0.27305611955030773, shape=(), dtype=float64)\n",
            "tf.Tensor(0.17535808839059044, shape=(), dtype=float64)\n",
            "tf.Tensor(0.11615896043097694, shape=(), dtype=float64)\n",
            "tf.Tensor(0.07645139628564232, shape=(), dtype=float64)\n",
            "tf.Tensor(0.05103295925475001, shape=(), dtype=float64)\n",
            "tf.Tensor(0.03399070048279049, shape=(), dtype=float64)\n",
            "tf.Tensor(0.022803326798286352, shape=(), dtype=float64)\n",
            "tf.Tensor(0.015293999952627542, shape=(), dtype=float64)\n",
            "tf.Tensor(0.010298844962736673, shape=(), dtype=float64)\n",
            "tf.Tensor(0.006938762941404664, shape=(), dtype=float64)\n",
            "tf.Tensor(0.0046864322856062625, shape=(), dtype=float64)\n",
            "tf.Tensor(0.003167692202739157, shape=(), dtype=float64)\n",
            "tf.Tensor(0.0021446553345925634, shape=(), dtype=float64)\n",
            "tf.Tensor(0.0014532100501128207, shape=(), dtype=float64)\n",
            "tf.Tensor(0.000985863135126268, shape=(), dtype=float64)\n",
            "tf.Tensor(0.0006693271609551433, shape=(), dtype=float64)\n",
            "tf.Tensor(0.00045484155832213656, shape=(), dtype=float64)\n",
            "tf.Tensor(0.0003093026897886962, shape=(), dtype=float64)\n",
            "tf.Tensor(0.00021048981565196945, shape=(), dtype=float64)\n",
            "tf.Tensor(0.00014333327667908876, shape=(), dtype=float64)\n",
            "tf.Tensor(9.766402842937756e-05, shape=(), dtype=float64)\n",
            "tf.Tensor(6.658246198299606e-05, shape=(), dtype=float64)\n",
            "tf.Tensor(4.541694816589302e-05, shape=(), dtype=float64)\n",
            "tf.Tensor(3.099464870839253e-05, shape=(), dtype=float64)\n",
            "tf.Tensor(2.1162106035099797e-05, shape=(), dtype=float64)\n",
            "tf.Tensor(1.4455022293076308e-05, shape=(), dtype=float64)\n",
            "tf.Tensor(9.87775904456194e-06, shape=(), dtype=float64)\n",
            "tf.Tensor(6.752525490866473e-06, shape=(), dtype=float64)\n",
            "tf.Tensor(4.6177912027720105e-06, shape=(), dtype=float64)\n",
            "tf.Tensor(3.1590290978084126e-06, shape=(), dtype=float64)\n",
            "tf.Tensor(2.161808004972678e-06, shape=(), dtype=float64)\n",
            "tf.Tensor(1.479848539600192e-06, shape=(), dtype=float64)\n",
            "tf.Tensor(1.0133227485021868e-06, shape=(), dtype=float64)\n",
            "tf.Tensor(6.940686543544205e-07, shape=(), dtype=float64)\n",
            "tf.Tensor(4.755274314835442e-07, shape=(), dtype=float64)\n",
            "tf.Tensor(3.2588308148633557e-07, shape=(), dtype=float64)\n",
            "tf.Tensor(2.233861406512715e-07, shape=(), dtype=float64)\n",
            "tf.Tensor(1.5316307353422554e-07, shape=(), dtype=float64)\n",
            "tf.Tensor(1.0503909717929353e-07, shape=(), dtype=float64)\n",
            "tf.Tensor(7.205146235563547e-08, shape=(), dtype=float64)\n",
            "tf.Tensor(4.9433986219370244e-08, shape=(), dtype=float64)\n",
            "tf.Tensor(3.3923120367736393e-08, shape=(), dtype=float64)\n",
            "tf.Tensor(2.328358235889474e-08, shape=(), dtype=float64)\n",
            "tf.Tensor(1.5983959045826705e-08, shape=(), dtype=float64)\n",
            "tf.Tensor(1.0974793192299082e-08, shape=(), dtype=float64)\n",
            "tf.Tensor(7.536727230528896e-09, shape=(), dtype=float64)\n",
            "tf.Tensor(5.176555816611054e-09, shape=(), dtype=float64)\n",
            "tf.Tensor(3.5560511429836107e-09, shape=(), dtype=float64)\n",
            "tf.Tensor(2.4432141478146558e-09, shape=(), dtype=float64)\n",
            "tf.Tensor(1.6788777982938718e-09, shape=(), dtype=float64)\n",
            "tf.Tensor(1.1538207830152338e-09, shape=(), dtype=float64)\n",
            "tf.Tensor(7.930802505397914e-10, shape=(), dtype=float64)\n",
            "tf.Tensor(5.451968732667984e-10, shape=(), dtype=float64)\n",
            "tf.Tensor(3.748391599170329e-10, shape=(), dtype=float64)\n",
            "tf.Tensor(2.577448429961122e-10, shape=(), dtype=float64)\n",
            "tf.Tensor(1.772502257093293e-10, shape=(), dtype=float64)\n",
            "tf.Tensor(1.2190832194457393e-10, shape=(), dtype=float64)\n",
            "tf.Tensor(8.385476249143253e-11, shape=(), dtype=float64)\n",
            "tf.Tensor(5.768575899960979e-11, shape=(), dtype=float64)\n",
            "tf.Tensor(3.9687589125518265e-11, shape=(), dtype=float64)\n",
            "tf.Tensor(2.7307697827430113e-11, shape=(), dtype=float64)\n",
            "tf.Tensor(1.8791273275322603e-11, shape=(), dtype=float64)\n",
            "tf.Tensor(1.2932027659639097e-11, shape=(), dtype=float64)\n",
            "tf.Tensor(8.90055055425178e-12, shape=(), dtype=float64)\n",
            "tf.Tensor(6.1263937839096624e-12, shape=(), dtype=float64)\n",
            "tf.Tensor(4.217233365848863e-12, shape=(), dtype=float64)\n",
            "tf.Tensor(2.903207163496732e-12, shape=(), dtype=float64)\n",
            "tf.Tensor(1.9988292932919973e-12, shape=(), dtype=float64)\n",
            "tf.Tensor(1.376341309303705e-12, shape=(), dtype=float64)\n",
            "tf.Tensor(9.478076658143714e-13, shape=(), dtype=float64)\n",
            "tf.Tensor(6.527796213476797e-13, shape=(), dtype=float64)\n",
            "tf.Tensor(4.4961248220547015e-13, shape=(), dtype=float64)\n",
            "tf.Tensor(3.0970000892384673e-13, shape=(), dtype=float64)\n",
            "tf.Tensor(2.1332217554060069e-13, shape=(), dtype=float64)\n",
            "tf.Tensor(1.4696722037826044e-13, shape=(), dtype=float64)\n",
            "tf.Tensor(1.0130357459694953e-13, shape=(), dtype=float64)\n",
            "tf.Tensor(6.98329857044225e-14, shape=(), dtype=float64)\n",
            "tf.Tensor(4.815902139420745e-14, shape=(), dtype=float64)\n",
            "tf.Tensor(3.316983231589927e-14, shape=(), dtype=float64)\n",
            "tf.Tensor(2.2711614115436182e-14, shape=(), dtype=float64)\n",
            "tf.Tensor(1.5510532047621003e-14, shape=(), dtype=float64)\n",
            "tf.Tensor(1.0614150430155337e-14, shape=(), dtype=float64)\n",
            "tf.Tensor(7.24671911520716e-15, shape=(), dtype=float64)\n",
            "tf.Tensor(4.9599677108563926e-15, shape=(), dtype=float64)\n",
            "tf.Tensor(3.4441847610984914e-15, shape=(), dtype=float64)\n",
            "tf.Tensor(2.3966882194506864e-15, shape=(), dtype=float64)\n",
            "tf.Tensor(1.717549201023569e-15, shape=(), dtype=float64)\n",
            "tf.Tensor(1.2641093453403707e-15, shape=(), dtype=float64)\n",
            "tf.Tensor(8.747572972109576e-16, shape=(), dtype=float64)\n",
            "tf.Tensor(6.189473548351201e-16, shape=(), dtype=float64)\n",
            "tf.Tensor(5.333743665613915e-16, shape=(), dtype=float64)\n",
            "tf.Tensor(4.943974838745755e-16, shape=(), dtype=float64)\n",
            "tf.Tensor(4.0153293571509487e-16, shape=(), dtype=float64)\n",
            "tf.Tensor(3.6956297863263563e-16, shape=(), dtype=float64)\n",
            "tf.Tensor(3.6956297863263563e-16, shape=(), dtype=float64)\n",
            "tf.Tensor(3.6956297863263563e-16, shape=(), dtype=float64)\n",
            "tf.Tensor(3.6956297863263563e-16, shape=(), dtype=float64)\n"
          ]
        }
      ]
    },
    {
      "cell_type": "code",
      "source": [
        "# get x, R*J*K\n",
        "x_jk = x_dist.sample(numJ) # J*K matrix\n",
        "# repeat J*K matrix to get R*J*K matrix. Each rival bidder faces the same product.\n",
        "x = tf.repeat(tf.expand_dims(x_jk, axis=0), repeats=numR, axis=0)\n",
        "\n",
        "# get beta_rival, R*I*K\n",
        "beta_rival = beta_dist.sample((numR, numI))\n",
        "\n",
        "# get v_rival, R*J*I\n",
        "# v_rival(r,j,i) is the bid of a rival type beta_rival(r, i) for product x_(j)\n",
        "# V(beta) is R*I, repeat it along a new dimension to obtain a tensor of shape R×J×I\n",
        "v_beta = tf.repeat(tf.expand_dims(V(beta_rival), axis=1), repeats=numJ, axis=1)\n",
        "v_rival = tf.einsum('rik,rjk->rji', beta_rival, x) - delta * v_beta\n",
        "\n",
        "# get v_rival_tilde, R*J*I\n",
        "# v_rival_tilde(r,j,i) is the maximum bid of among r bidders\n",
        "v_rival_tilde_lst = []\n",
        "for i in range(numR):\n",
        "    v_rival_tilde_lst.append(tf.reduce_max(v_rival[:i+1,:,:], axis=0))\n",
        "v_rival_tilde = tf.stack(v_rival_tilde_lst)\n"
      ],
      "metadata": {
        "id": "0MdGBKd6YKXW"
      },
      "execution_count": null,
      "outputs": []
    },
    {
      "cell_type": "code",
      "source": [
        "# I*K\n",
        "beta_bar_slice = tf.constant([0.8, 0.8], dtype=tf.float64)\n",
        "# R*I*K\n",
        "beta_bar = tf.repeat(tf.expand_dims(beta_bar_slice, axis=0), repeats=numI, axis=0)\n",
        "\n",
        "# J*I\n",
        "v_tilde_slice = x_jk @ tf.transpose(beta_bar) - delta * V(beta_bar)\n",
        "# R*J*I\n",
        "v_tilde = tf.repeat(tf.expand_dims(v_tilde_slice, axis=0), repeats=numR, axis=0)\n",
        "\n",
        "# profit if number of rivals is know.\n",
        "profit_rji = tf.nn.relu(v_tilde - v_rival_tilde)\n",
        "# profit weigted by the probability of rival number occurance.\n",
        "profit_rji_weighted = profit_rji * tf.expand_dims(tf.expand_dims(prob_rival, axis=1), axis=2)\n",
        "# profit before knowing the number of rivals\n",
        "profit_ji = tf.reduce_sum(profit_rji_weighted, axis=0)\n",
        "\n",
        "# value of type beta_bar_slice\n",
        "profit = tf.reduce_sum(tf.nn.relu(profit_ji - kappa)) / (numI*numJ)\n",
        "\n",
        "profit\n"
      ],
      "metadata": {
        "colab": {
          "base_uri": "https://localhost:8080/"
        },
        "id": "dEyhmbCLDUSf",
        "outputId": "795a3184-c56e-46f8-c113-6dbaa0c4bccd"
      },
      "execution_count": null,
      "outputs": [
        {
          "output_type": "execute_result",
          "data": {
            "text/plain": [
              "<tf.Tensor: shape=(), dtype=float64, numpy=0.23365695066238706>"
            ]
          },
          "metadata": {},
          "execution_count": 171
        }
      ]
    },
    {
      "cell_type": "code",
      "source": [
        "def update_value(pref_coef: tf.Tensor, product_coef: tf.Tensor) -> tf.Tensor:\n",
        "\n",
        "    assert product_coef.shape == (numJ, numK)\n",
        "    assert pref_coef.shape == (numK)\n",
        "\n",
        "    # R*I*K\n",
        "    beta_bar = tf.repeat(tf.expand_dims(pref_coef, axis=0), repeats=numI, axis=0)\n",
        "\n",
        "    # J*I\n",
        "    v_tilde_slice = product_coef @ tf.transpose(beta_bar) - delta * V(beta_bar)\n",
        "    # R*J*I\n",
        "    v_tilde = tf.repeat(tf.expand_dims(v_tilde_slice, axis=0), repeats=numR, axis=0)\n",
        "\n",
        "    # profit if number of rivals is know.\n",
        "    profit_rji = tf.nn.relu(v_tilde - v_rival_tilde)\n",
        "    # profit weigted by the probability of rival number occurance.\n",
        "    profit_rji_weighted = profit_rji * tf.expand_dims(tf.expand_dims(prob_rival, axis=1), axis=2)\n",
        "    # profit before knowing the number of rivals\n",
        "    profit_ji = tf.reduce_sum(profit_rji_weighted, axis=0)\n",
        "\n",
        "    # value of type beta_bar_slice\n",
        "    profit = tf.reduce_sum(tf.nn.relu(profit_ji - kappa)) / (numI*numJ)\n",
        "\n",
        "    return profit\n",
        "\n",
        "\n",
        "def update_V(beta_grids_1d):\n",
        "    V_next = []\n",
        "    # counter = 0\n",
        "    for beta in beta_grids:\n",
        "        V_next.append(update_value(pref_coef=beta, product_coef=x_jk))\n",
        "        # if counter % 1000 == 0:\n",
        "        #     print(counter)\n",
        "        # counter = counter + 1\n",
        "\n",
        "\n",
        "    # get values at grids to update V, NumPy type\n",
        "    values = tf.reshape(tf.stack(V_next), [numGrid]*numK).numpy()\n",
        "    # V_scipy is a callable, mapping beta to value (as numpy array)\n",
        "    V_scipy = scipy.interpolate.RegularGridInterpolator((beta_grids_1d, beta_grids_1d), values)\n",
        "    # V_scipy is a callable, mapping beta to value (as tensor)\n",
        "    V = lambda x: tf.constant(V_scipy(x))\n",
        "    return V, values\n",
        "\n",
        "\n",
        "\n",
        "\n",
        "X, Y = np.meshgrid(beta_grids_1d, beta_grids_1d)  # 2D grid for interpolation\n",
        "\n",
        "plt.pcolormesh(X, Y, Z, shading='gouraud')\n",
        "plt.legend()\n",
        "plt.colorbar()\n",
        "plt.axis(\"equal\")\n",
        "plt.show()\n",
        "\n",
        "transformed_distribution.prob([0.5,0.5])\n"
      ],
      "metadata": {
        "id": "xoHBNe6jLDNu"
      },
      "execution_count": null,
      "outputs": []
    },
    {
      "cell_type": "code",
      "source": [
        "V_next = []\n",
        "# counter = 0\n",
        "for beta in beta_grids:\n",
        "    V_next.append(update_value(pref_coef=beta, product_coef=x_jk))\n",
        "    # if counter % 1000 == 0:\n",
        "    #     print(counter)\n",
        "    # counter = counter + 1\n",
        "\n",
        "\n",
        "# get values at grids to update V, NumPy type\n",
        "values = tf.reshape(tf.stack(V_next), [numGrid]*numK).numpy()\n",
        "# V_scipy is a callable, mapping beta to value (as numpy array)\n",
        "V_scipy = scipy.interpolate.RegularGridInterpolator((beta_grids_1d, beta_grids_1d), values)\n",
        "# V_scipy is a callable, mapping beta to value (as tensor)\n",
        "V = lambda x: tf.constant(V_scipy(x))\n"
      ],
      "metadata": {
        "colab": {
          "base_uri": "https://localhost:8080/"
        },
        "id": "4ftxzuJ6ZBz3",
        "outputId": "dba26491-0b5c-46ef-9a17-55dd0351c785"
      },
      "execution_count": null,
      "outputs": [
        {
          "output_type": "execute_result",
          "data": {
            "text/plain": [
              "<tf.Tensor: shape=(1,), dtype=float64, numpy=array([0.01693446])>"
            ]
          },
          "metadata": {},
          "execution_count": 188
        }
      ]
    },
    {
      "cell_type": "code",
      "source": [
        "import tensorflow as tf\n",
        "\n",
        "# Example tensor of shape R x J x I\n",
        "tensor_rji = profit_rji\n",
        "\n",
        "# Example vector of shape R\n",
        "vector_r = prob_rival\n",
        "\n",
        "# Perform element-wise multiplication\n",
        "result_tensor = tensor_rji * tf.expand_dims(tf.expand_dims(vector_r, axis=1), axis=2)\n",
        "\n",
        "# Sum along the R dimension to get a J x I tensor\n",
        "result_tensor_ji = tf.reduce_sum(result_tensor, axis=0)\n",
        "\n",
        "# Print the result\n",
        "print(\"Original Tensor (R x J x I):\")\n",
        "print(tensor_rji)\n",
        "print(\"\\nVector (R):\")\n",
        "print(vector_r)\n",
        "print(\"\\nResult Tensor (J x I):\")\n",
        "print(result_tensor_ji)\n"
      ],
      "metadata": {
        "colab": {
          "base_uri": "https://localhost:8080/",
          "height": 399
        },
        "id": "-1FF8H0-9law",
        "outputId": "8c0cec28-af41-44ba-8b93-c9fa03339162"
      },
      "execution_count": null,
      "outputs": [
        {
          "output_type": "error",
          "ename": "InvalidArgumentError",
          "evalue": "ignored",
          "traceback": [
            "\u001b[0;31m---------------------------------------------------------------------------\u001b[0m",
            "\u001b[0;31mInvalidArgumentError\u001b[0m                      Traceback (most recent call last)",
            "\u001b[0;32m<ipython-input-125-f8179759390f>\u001b[0m in \u001b[0;36m<cell line: 10>\u001b[0;34m()\u001b[0m\n\u001b[1;32m      8\u001b[0m \u001b[0;34m\u001b[0m\u001b[0m\n\u001b[1;32m      9\u001b[0m \u001b[0;31m# Perform element-wise multiplication\u001b[0m\u001b[0;34m\u001b[0m\u001b[0;34m\u001b[0m\u001b[0m\n\u001b[0;32m---> 10\u001b[0;31m \u001b[0mresult_tensor\u001b[0m \u001b[0;34m=\u001b[0m \u001b[0mtensor_rji\u001b[0m \u001b[0;34m*\u001b[0m \u001b[0mtf\u001b[0m\u001b[0;34m.\u001b[0m\u001b[0mexpand_dims\u001b[0m\u001b[0;34m(\u001b[0m\u001b[0mtf\u001b[0m\u001b[0;34m.\u001b[0m\u001b[0mexpand_dims\u001b[0m\u001b[0;34m(\u001b[0m\u001b[0mvector_r\u001b[0m\u001b[0;34m,\u001b[0m \u001b[0maxis\u001b[0m\u001b[0;34m=\u001b[0m\u001b[0;36m1\u001b[0m\u001b[0;34m)\u001b[0m\u001b[0;34m,\u001b[0m \u001b[0maxis\u001b[0m\u001b[0;34m=\u001b[0m\u001b[0;36m2\u001b[0m\u001b[0;34m)\u001b[0m\u001b[0;34m\u001b[0m\u001b[0;34m\u001b[0m\u001b[0m\n\u001b[0m\u001b[1;32m     11\u001b[0m \u001b[0;34m\u001b[0m\u001b[0m\n\u001b[1;32m     12\u001b[0m \u001b[0;31m# Sum along the R dimension to get a J x I tensor\u001b[0m\u001b[0;34m\u001b[0m\u001b[0;34m\u001b[0m\u001b[0m\n",
            "\u001b[0;32m/usr/local/lib/python3.10/dist-packages/tensorflow/python/util/traceback_utils.py\u001b[0m in \u001b[0;36merror_handler\u001b[0;34m(*args, **kwargs)\u001b[0m\n\u001b[1;32m    151\u001b[0m     \u001b[0;32mexcept\u001b[0m \u001b[0mException\u001b[0m \u001b[0;32mas\u001b[0m \u001b[0me\u001b[0m\u001b[0;34m:\u001b[0m\u001b[0;34m\u001b[0m\u001b[0;34m\u001b[0m\u001b[0m\n\u001b[1;32m    152\u001b[0m       \u001b[0mfiltered_tb\u001b[0m \u001b[0;34m=\u001b[0m \u001b[0m_process_traceback_frames\u001b[0m\u001b[0;34m(\u001b[0m\u001b[0me\u001b[0m\u001b[0;34m.\u001b[0m\u001b[0m__traceback__\u001b[0m\u001b[0;34m)\u001b[0m\u001b[0;34m\u001b[0m\u001b[0;34m\u001b[0m\u001b[0m\n\u001b[0;32m--> 153\u001b[0;31m       \u001b[0;32mraise\u001b[0m \u001b[0me\u001b[0m\u001b[0;34m.\u001b[0m\u001b[0mwith_traceback\u001b[0m\u001b[0;34m(\u001b[0m\u001b[0mfiltered_tb\u001b[0m\u001b[0;34m)\u001b[0m \u001b[0;32mfrom\u001b[0m \u001b[0;32mNone\u001b[0m\u001b[0;34m\u001b[0m\u001b[0;34m\u001b[0m\u001b[0m\n\u001b[0m\u001b[1;32m    154\u001b[0m     \u001b[0;32mfinally\u001b[0m\u001b[0;34m:\u001b[0m\u001b[0;34m\u001b[0m\u001b[0;34m\u001b[0m\u001b[0m\n\u001b[1;32m    155\u001b[0m       \u001b[0;32mdel\u001b[0m \u001b[0mfiltered_tb\u001b[0m\u001b[0;34m\u001b[0m\u001b[0;34m\u001b[0m\u001b[0m\n",
            "\u001b[0;32m/usr/local/lib/python3.10/dist-packages/tensorflow/python/framework/ops.py\u001b[0m in \u001b[0;36mraise_from_not_ok_status\u001b[0;34m(e, name)\u001b[0m\n\u001b[1;32m   5886\u001b[0m \u001b[0;32mdef\u001b[0m \u001b[0mraise_from_not_ok_status\u001b[0m\u001b[0;34m(\u001b[0m\u001b[0me\u001b[0m\u001b[0;34m,\u001b[0m \u001b[0mname\u001b[0m\u001b[0;34m)\u001b[0m \u001b[0;34m->\u001b[0m \u001b[0mNoReturn\u001b[0m\u001b[0;34m:\u001b[0m\u001b[0;34m\u001b[0m\u001b[0;34m\u001b[0m\u001b[0m\n\u001b[1;32m   5887\u001b[0m   \u001b[0me\u001b[0m\u001b[0;34m.\u001b[0m\u001b[0mmessage\u001b[0m \u001b[0;34m+=\u001b[0m \u001b[0;34m(\u001b[0m\u001b[0;34m\" name: \"\u001b[0m \u001b[0;34m+\u001b[0m \u001b[0mstr\u001b[0m\u001b[0;34m(\u001b[0m\u001b[0mname\u001b[0m \u001b[0;32mif\u001b[0m \u001b[0mname\u001b[0m \u001b[0;32mis\u001b[0m \u001b[0;32mnot\u001b[0m \u001b[0;32mNone\u001b[0m \u001b[0;32melse\u001b[0m \u001b[0;34m\"\"\u001b[0m\u001b[0;34m)\u001b[0m\u001b[0;34m)\u001b[0m\u001b[0;34m\u001b[0m\u001b[0;34m\u001b[0m\u001b[0m\n\u001b[0;32m-> 5888\u001b[0;31m   \u001b[0;32mraise\u001b[0m \u001b[0mcore\u001b[0m\u001b[0;34m.\u001b[0m\u001b[0m_status_to_exception\u001b[0m\u001b[0;34m(\u001b[0m\u001b[0me\u001b[0m\u001b[0;34m)\u001b[0m \u001b[0;32mfrom\u001b[0m \u001b[0;32mNone\u001b[0m  \u001b[0;31m# pylint: disable=protected-access\u001b[0m\u001b[0;34m\u001b[0m\u001b[0;34m\u001b[0m\u001b[0m\n\u001b[0m\u001b[1;32m   5889\u001b[0m \u001b[0;34m\u001b[0m\u001b[0m\n\u001b[1;32m   5890\u001b[0m \u001b[0;34m\u001b[0m\u001b[0m\n",
            "\u001b[0;31mInvalidArgumentError\u001b[0m: cannot compute Mul as input #1(zero-based) was expected to be a double tensor but is a float tensor [Op:Mul] name: "
          ]
        }
      ]
    },
    {
      "cell_type": "code",
      "source": [
        "import tensorflow as tf\n",
        "\n",
        "# Example tensor of shape R x I\n",
        "tensor_ri = tf.constant([[1, 2],\n",
        "                         [3, 4],\n",
        "                         [5, 6]])\n",
        "\n",
        "# Parameters\n",
        "R = tf.shape(tensor_ri)[0]\n",
        "I = tf.shape(tensor_ri)[1]\n",
        "J = 5  # Number of repetitions along the new dimension\n",
        "\n",
        "# Repeat the tensor along a new dimension\n",
        "tensor_rji = tf.repeat(tf.expand_dims(tensor_ri, axis=1), repeats=J, axis=1)\n",
        "\n",
        "# Print the result\n",
        "print(\"Original Tensor (R x I):\")\n",
        "print(tensor_ri)\n",
        "print(\"\\nRepeated Tensor (R x J x I):\")\n",
        "print(tensor_rji)"
      ],
      "metadata": {
        "colab": {
          "base_uri": "https://localhost:8080/"
        },
        "id": "dOLwt_jb8Cik",
        "outputId": "d4ad1de9-fd7a-43a2-fcda-902c7b4c1a1d"
      },
      "execution_count": null,
      "outputs": [
        {
          "output_type": "stream",
          "name": "stdout",
          "text": [
            "Original Tensor (R x I):\n",
            "tf.Tensor(\n",
            "[[1 2]\n",
            " [3 4]\n",
            " [5 6]], shape=(3, 2), dtype=int32)\n",
            "\n",
            "Repeated Tensor (R x J x I):\n",
            "tf.Tensor(\n",
            "[[[1 2]\n",
            "  [1 2]\n",
            "  [1 2]\n",
            "  [1 2]\n",
            "  [1 2]]\n",
            "\n",
            " [[3 4]\n",
            "  [3 4]\n",
            "  [3 4]\n",
            "  [3 4]\n",
            "  [3 4]]\n",
            "\n",
            " [[5 6]\n",
            "  [5 6]\n",
            "  [5 6]\n",
            "  [5 6]\n",
            "  [5 6]]], shape=(3, 5, 2), dtype=int32)\n"
          ]
        }
      ]
    },
    {
      "cell_type": "code",
      "source": [
        "# Create a 2-dimensional normal distribution\n",
        "mu = tf.constant([0, 0], dtype=tf.float64)\n",
        "cov = tf.constant([[0.6, -0.5], [-0.5, 0.6]], dtype=tf.float64)\n",
        "scale = tf.linalg.cholesky(cov)\n",
        "\n",
        "normal_distribution = tfd.MultivariateNormalTriL(\n",
        "    loc=mu,\n",
        "    scale_tril=scale)\n",
        "\n",
        "# Create a normal CDF bijector\n",
        "normal_cdf_bijector = tfp.bijectors.NormalCDF()\n",
        "\n",
        "# Transform the distribution using the bijector\n",
        "transformed_distribution = tfp.distributions.TransformedDistribution(\n",
        "    distribution=normal_distribution,\n",
        "    bijector=normal_cdf_bijector\n",
        ")\n",
        "\n",
        "transformed_distribution.prob([0.09,0.01])\n",
        "\n",
        "x = np.linspace(0.01, 0.99, 100)\n",
        "X, Y = np.meshgrid(x, x)  # 2D grid for interpolation\n",
        "Z = transformed_distribution.prob(cartesian_product(x, 2))\n",
        "Z = tf.reshape(Z, (100,100))\n",
        "plt.pcolormesh(X, Y, Z, shading='gouraud')\n",
        "plt.legend()\n",
        "plt.colorbar()\n",
        "plt.axis(\"equal\")\n",
        "plt.show()\n",
        "\n",
        "transformed_distribution.prob([0.5,0.5])"
      ],
      "metadata": {
        "colab": {
          "base_uri": "https://localhost:8080/",
          "height": 466
        },
        "id": "T1Uud3q3Dk47",
        "outputId": "4c53be99-6103-4d30-9928-b32fa875c49b"
      },
      "execution_count": null,
      "outputs": [
        {
          "output_type": "stream",
          "name": "stderr",
          "text": [
            "WARNING:matplotlib.legend:No artists with labels found to put in legend.  Note that artists whose label start with an underscore are ignored when legend() is called with no argument.\n"
          ]
        },
        {
          "output_type": "display_data",
          "data": {
            "text/plain": [
              "<Figure size 640x480 with 2 Axes>"
            ],
            "image/png": "[encoded data removed]"
          },
          "metadata": {}
        },
        {
          "output_type": "execute_result",
          "data": {
            "text/plain": [
              "<tf.Tensor: shape=(), dtype=float64, numpy=3.015113445777636>"
            ]
          },
          "metadata": {},
          "execution_count": 104
        }
      ]
    },
    {
      "cell_type": "code",
      "source": [
        "tf.reshape(\n",
        "    Z, 1000,1000), name=None\n",
        ")"
      ],
      "metadata": {
        "colab": {
          "base_uri": "https://localhost:8080/"
        },
        "id": "K_1ycdqFISCM",
        "outputId": "1b77b461-1a73-4235-e780-ad6f6de21e81"
      },
      "execution_count": null,
      "outputs": [
        {
          "output_type": "execute_result",
          "data": {
            "text/plain": [
              "<tf.Tensor: shape=(1000, 1000), dtype=float64, numpy=\n",
              "array([[5.15363290e-03, 5.59384560e-03, 6.03225442e-03, ...,\n",
              "        6.64792877e+00, 6.82236972e+00, 7.01328247e+00],\n",
              "       [5.59384560e-03, 6.06661205e-03, 6.53704114e-03, ...,\n",
              "        6.47732523e+00, 6.64217657e+00, 6.82236972e+00],\n",
              "       [6.03225442e-03, 6.53704114e-03, 7.03893687e-03, ...,\n",
              "        6.32106323e+00, 6.47732523e+00, 6.64792877e+00],\n",
              "       ...,\n",
              "       [6.64792877e+00, 6.47732523e+00, 6.32106323e+00, ...,\n",
              "        7.03893687e-03, 6.53704114e-03, 6.03225442e-03],\n",
              "       [6.82236972e+00, 6.64217657e+00, 6.47732523e+00, ...,\n",
              "        6.53704114e-03, 6.06661205e-03, 5.59384560e-03],\n",
              "       [7.01328247e+00, 6.82236972e+00, 6.64792877e+00, ...,\n",
              "        6.03225442e-03, 5.59384560e-03, 5.15363290e-03]])>"
            ]
          },
          "metadata": {},
          "execution_count": 80
        }
      ]
    },
    {
      "cell_type": "code",
      "source": [
        "X"
      ],
      "metadata": {
        "colab": {
          "base_uri": "https://localhost:8080/"
        },
        "id": "r757O-ZxJJ3o",
        "outputId": "19098fc1-1e9f-4772-f9cb-204b98a40670"
      },
      "execution_count": null,
      "outputs": [
        {
          "output_type": "execute_result",
          "data": {
            "text/plain": [
              "array([[0.01, 0.03, 0.05, ..., 0.95, 0.97, 0.99],\n",
              "       [0.01, 0.03, 0.05, ..., 0.95, 0.97, 0.99],\n",
              "       [0.01, 0.03, 0.05, ..., 0.95, 0.97, 0.99],\n",
              "       ...,\n",
              "       [0.01, 0.03, 0.05, ..., 0.95, 0.97, 0.99],\n",
              "       [0.01, 0.03, 0.05, ..., 0.95, 0.97, 0.99],\n",
              "       [0.01, 0.03, 0.05, ..., 0.95, 0.97, 0.99]])"
            ]
          },
          "metadata": {},
          "execution_count": 82
        }
      ]
    },
    {
      "cell_type": "code",
      "source": [
        "transformed_distribution.prob([[0.1,0.1], [0.1,0.9]])"
      ],
      "metadata": {
        "colab": {
          "base_uri": "https://localhost:8080/"
        },
        "id": "rbxPeGWGHZY5",
        "outputId": "bd2a6a32-f76d-49c6-fc8e-bb5b9f5ef2f7"
      },
      "execution_count": null,
      "outputs": [
        {
          "output_type": "execute_result",
          "data": {
            "text/plain": [
              "<tf.Tensor: shape=(2,), dtype=float64, numpy=array([0.22345765, 1.9963074 ])>"
            ]
          },
          "metadata": {},
          "execution_count": 62
        }
      ]
    },
    {
      "cell_type": "code",
      "source": [
        "cartesian_product(x, 2)"
      ],
      "metadata": {
        "colab": {
          "base_uri": "https://localhost:8080/"
        },
        "id": "-8IQIk6l67I2",
        "outputId": "5ee3dfd1-43fb-4c8f-d7f8-ceb19b683dfb"
      },
      "execution_count": null,
      "outputs": [
        {
          "output_type": "execute_result",
          "data": {
            "text/plain": [
              "array([[0.      , 0.      ],\n",
              "       [0.      , 0.001001],\n",
              "       [0.      , 0.002002],\n",
              "       ...,\n",
              "       [1.      , 0.997998],\n",
              "       [1.      , 0.998999],\n",
              "       [1.      , 1.      ]])"
            ]
          },
          "metadata": {},
          "execution_count": 63
        }
      ]
    },
    {
      "cell_type": "code",
      "source": [
        "%%time\n",
        "V(tf.constant(beta_grids))"
      ],
      "metadata": {
        "colab": {
          "base_uri": "https://localhost:8080/"
        },
        "id": "SWNBHIRd8IQf",
        "outputId": "8bea2a52-64d6-4acb-ceb0-53e9d4f7c1b7"
      },
      "execution_count": null,
      "outputs": [
        {
          "output_type": "stream",
          "name": "stdout",
          "text": [
            "CPU times: user 676 ms, sys: 4.99 ms, total: 681 ms\n",
            "Wall time: 757 ms\n"
          ]
        },
        {
          "output_type": "execute_result",
          "data": {
            "text/plain": [
              "array([0., 0., 0., ..., 0., 0., 0.])"
            ]
          },
          "metadata": {},
          "execution_count": 11
        }
      ]
    },
    {
      "cell_type": "code",
      "source": [
        "%%time\n",
        "V(beta_grids)"
      ],
      "metadata": {
        "colab": {
          "base_uri": "https://localhost:8080/"
        },
        "id": "bB8xtAG6798P",
        "outputId": "7d2369a3-87b4-41f6-b005-1af255a54152"
      },
      "execution_count": null,
      "outputs": [
        {
          "output_type": "stream",
          "name": "stdout",
          "text": [
            "CPU times: user 644 ms, sys: 1.87 ms, total: 646 ms\n",
            "Wall time: 677 ms\n"
          ]
        },
        {
          "output_type": "execute_result",
          "data": {
            "text/plain": [
              "array([0., 0., 0., ..., 0., 0., 0.])"
            ]
          },
          "metadata": {},
          "execution_count": 21
        }
      ]
    },
    {
      "cell_type": "code",
      "source": [
        "%%time\n",
        "V(tf_beta_grids)"
      ],
      "metadata": {
        "colab": {
          "base_uri": "https://localhost:8080/"
        },
        "id": "0y14Gv_b8R7H",
        "outputId": "d3792bed-3d8a-42b1-bc35-0b53f68cb3d6"
      },
      "execution_count": null,
      "outputs": [
        {
          "output_type": "stream",
          "name": "stdout",
          "text": [
            "CPU times: user 665 ms, sys: 1.55 ms, total: 667 ms\n",
            "Wall time: 672 ms\n"
          ]
        },
        {
          "output_type": "execute_result",
          "data": {
            "text/plain": [
              "array([0., 0., 0., ..., 0., 0., 0.])"
            ]
          },
          "metadata": {},
          "execution_count": 18
        }
      ]
    },
    {
      "cell_type": "code",
      "source": [
        "import scipy\n",
        "\n",
        "from scipy.interpolate import LinearNDInterpolator\n",
        "import numpy as np\n",
        "import matplotlib.pyplot as plt\n",
        "\n",
        "x = np.linspace(0.1, 0.9, 10)-0.5\n",
        "points = cartesian_product(x, ndim=2)\n",
        "values = points @ [3, 1]\n",
        "X = np.linspace(min(x), max(x))\n",
        "Y = np.linspace(min(x), max(x))\n",
        "X, Y = np.meshgrid(X, Y)  # 2D grid for interpolation\n",
        "interp = scipy.interpolate.LinearNDInterpolator(points, values)\n",
        "Z = interp(X, Y)\n",
        "plt.pcolormesh(X, Y, Z, shading='auto')\n",
        "plt.legend()\n",
        "plt.colorbar()\n",
        "plt.axis(\"equal\")\n",
        "plt.show()"
      ],
      "metadata": {
        "colab": {
          "base_uri": "https://localhost:8080/",
          "height": 450
        },
        "id": "gvPLi7photuC",
        "outputId": "38d53c36-081b-4101-ca30-b4b244799d93"
      },
      "execution_count": null,
      "outputs": [
        {
          "output_type": "stream",
          "name": "stderr",
          "text": [
            "WARNING:matplotlib.legend:No artists with labels found to put in legend.  Note that artists whose label start with an underscore are ignored when legend() is called with no argument.\n"
          ]
        },
        {
          "output_type": "display_data",
          "data": {
            "text/plain": [
              "<Figure size 640x480 with 2 Axes>"
            ],
            "image/png": "[encoded data removed]"
          },
          "metadata": {}
        }
      ]
    },
    {
      "cell_type": "code",
      "source": [
        "Z"
      ],
      "metadata": {
        "colab": {
          "base_uri": "https://localhost:8080/"
        },
        "id": "8CnMFQV8ouO_",
        "outputId": "b0a75e85-0a95-4ceb-a435-fa6152a67455"
      },
      "execution_count": null,
      "outputs": [
        {
          "output_type": "execute_result",
          "data": {
            "text/plain": [
              "array([[-1.6       , -1.55102041, -1.50204082, ...,  0.70204082,\n",
              "         0.75102041,  0.8       ],\n",
              "       [-1.58367347, -1.53469388, -1.48571429, ...,  0.71836735,\n",
              "         0.76734694,  0.81632653],\n",
              "       [-1.56734694, -1.51836735, -1.46938776, ...,  0.73469388,\n",
              "         0.78367347,  0.83265306],\n",
              "       ...,\n",
              "       [-0.83265306, -0.78367347, -0.73469388, ...,  1.46938776,\n",
              "         1.51836735,  1.56734694],\n",
              "       [-0.81632653, -0.76734694, -0.71836735, ...,  1.48571429,\n",
              "         1.53469388,  1.58367347],\n",
              "       [-0.8       , -0.75102041, -0.70204082, ...,  1.50204082,\n",
              "         1.55102041,  1.6       ]])"
            ]
          },
          "metadata": {},
          "execution_count": 74
        }
      ]
    },
    {
      "cell_type": "code",
      "source": [
        "Y"
      ],
      "metadata": {
        "colab": {
          "base_uri": "https://localhost:8080/"
        },
        "id": "6KtHSh6huPW7",
        "outputId": "d08e5ee5-985e-4549-d8a3-172d2da54ae6"
      },
      "execution_count": null,
      "outputs": [
        {
          "output_type": "execute_result",
          "data": {
            "text/plain": [
              "array([[-0.4       , -0.4       , -0.4       , ..., -0.4       ,\n",
              "        -0.4       , -0.4       ],\n",
              "       [-0.38367347, -0.38367347, -0.38367347, ..., -0.38367347,\n",
              "        -0.38367347, -0.38367347],\n",
              "       [-0.36734694, -0.36734694, -0.36734694, ..., -0.36734694,\n",
              "        -0.36734694, -0.36734694],\n",
              "       ...,\n",
              "       [ 0.36734694,  0.36734694,  0.36734694, ...,  0.36734694,\n",
              "         0.36734694,  0.36734694],\n",
              "       [ 0.38367347,  0.38367347,  0.38367347, ...,  0.38367347,\n",
              "         0.38367347,  0.38367347],\n",
              "       [ 0.4       ,  0.4       ,  0.4       , ...,  0.4       ,\n",
              "         0.4       ,  0.4       ]])"
            ]
          },
          "metadata": {},
          "execution_count": 67
        }
      ]
    },
    {
      "cell_type": "code",
      "source": [
        "x = rng.random(10) - 0.5\n",
        "y = rng.random(10) - 0.5"
      ],
      "metadata": {
        "id": "nx_QE4IvuwHS"
      },
      "execution_count": null,
      "outputs": []
    },
    {
      "cell_type": "code",
      "source": [
        "x"
      ],
      "metadata": {
        "colab": {
          "base_uri": "https://localhost:8080/"
        },
        "id": "ZRho1iO8wjhA",
        "outputId": "1cbc34b5-3607-48ab-de43-4133b2f48803"
      },
      "execution_count": null,
      "outputs": [
        {
          "output_type": "execute_result",
          "data": {
            "text/plain": [
              "array([-0.25080465, -0.380831  , -0.41672725,  0.04978269, -0.11794582,\n",
              "       -0.32948162,  0.24765411, -0.44566919, -0.12455026, -0.25880594])"
            ]
          },
          "metadata": {},
          "execution_count": 140
        }
      ]
    },
    {
      "cell_type": "code",
      "source": [],
      "metadata": {
        "colab": {
          "base_uri": "https://localhost:8080/"
        },
        "id": "LdJipGwbwj-d",
        "outputId": "0d270262-9c29-48b5-bc32-c83970ed7015"
      },
      "execution_count": null,
      "outputs": [
        {
          "output_type": "execute_result",
          "data": {
            "text/plain": [
              "array([0.1])"
            ]
          },
          "metadata": {},
          "execution_count": 167
        }
      ]
    },
    {
      "cell_type": "code",
      "source": [],
      "metadata": {
        "id": "8C50O3xX1pv8"
      },
      "execution_count": null,
      "outputs": []
    }
  ]
}